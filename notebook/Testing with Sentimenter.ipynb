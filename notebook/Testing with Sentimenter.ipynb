{
  "nbformat": 4,
  "nbformat_minor": 0,
  "metadata": {
    "colab": {
      "name": "Sentimenter.ipynb",
      "provenance": [],
      "toc_visible": true,
      "include_colab_link": true
    },
    "kernelspec": {
      "name": "python3",
      "display_name": "Python 3"
    }
  },
  "cells": [
    {
      "cell_type": "markdown",
      "metadata": {
        "id": "view-in-github",
        "colab_type": "text"
      },
      "source": [
        "<a href=\"https://colab.research.google.com/github/rodrigoms2004/FinanceMidTermSiraj2019/blob/master/Testing%20with%20Sentimenter.ipynb\" target=\"_parent\"><img src=\"https://colab.research.google.com/assets/colab-badge.svg\" alt=\"Open In Colab\"/></a>"
      ]
    },
    {
      "cell_type": "markdown",
      "metadata": {
        "id": "LEyjlpBFhCrw",
        "colab_type": "text"
      },
      "source": [
        "# ML Signals"
      ]
    },
    {
      "cell_type": "markdown",
      "metadata": {
        "id": "G-zRrvHJhGur",
        "colab_type": "text"
      },
      "source": [
        "Welcome to the mostest awesome signal service of your future\n",
        "\n",
        "You are currently subscribed to the following :\n",
        "* BTCUSD\n",
        "* XAUUSD\n",
        "* TSLA"
      ]
    },
    {
      "cell_type": "markdown",
      "metadata": {
        "id": "jhoYA9cIhh_J",
        "colab_type": "text"
      },
      "source": [
        "![BTCUSD](https://finviz.com/fx_image.ashx?btcusd_d1_l.png&rev=637058883375592942)\n",
        "\n",
        "## NEWS:\n"
      ]
    },
    {
      "cell_type": "markdown",
      "metadata": {
        "id": "Bwag5Ej2j32X",
        "colab_type": "text"
      },
      "source": [
        "![Gold](https://finviz.com/fut_chart.ashx?t=GC&cot=088691&p=d1&rev=637058888080713974)\n",
        "## NEWS : "
      ]
    },
    {
      "cell_type": "markdown",
      "metadata": {
        "id": "JCtd-j0ylb2N",
        "colab_type": "text"
      },
      "source": [
        "![TESLA](https://finviz.com/chart.ashx?t=TSLA&ty=c&ta=1&p=d&s=l)\n",
        "\n",
        "## NEWS : \n",
        "```\n",
        "Oct-05-19 10:13AM  \tTesla stock falls after company misses third-quarter delivery expectations MarketWatch\n",
        "10:10AM  \tTesla stock reels after electric car makers missed sales MarketWatch\n",
        "Oct-04-19 05:45PM  \tTesla (TSLA) Stock Sinks As Market Gains: What You Should Know Zacks\n",
        "05:36PM  \tUPDATE 1-Tesla automated parking problems seen liability of app 'driver' for now Reuters\n",
        "04:24PM  \tStock Market Rally Tested As Recession Fears Grow; Online Brokers Scrap Stock Trading Fees: Weekly Review Investor's Business Daily\n",
        "03:33PM  \tTesla automated parking problems seen liability of app 'driver' for now Reuters\n",
        "03:08PM  \tTesla Battery Flaw Cover-Up Claim to Be Evaluated by NHTSA Bloomberg\n",
        "02:58PM  \tTesla (TSLA) Buys DeepScale to Develop Fully Autonomous Cars Zacks\n",
        "02:49PM  \tTesla Sets Record For Deliveries, But Stock Price Falls Benzinga\n",
        "02:29PM  \tTesla Semi Electric Trucks Roll Into Frito-Lay Plant Benzinga\n",
        "12:56PM  \tU.S. NHTSA reviewing claims 2,000 Tesla vehicles should have been recalled Reuters\n",
        "12:54PM  \tUPDATE 3-U.S. agency reviews whether 2,000 Teslas should have been recalled Reuters\n",
        "12:48PM  \tA Look At Benzinga Pro's Most-Searched Tickers For October 4, 2019 Benzinga\n",
        "12:03PM  \tGot A Portfolio That Can't Be Beat? Webull Will Give You A Tesla Or Pay Down Your Student Loans If You Prove It Benzinga\n",
        "10:58AM  \tNHTSA reviewing claims 2,000 Tesla vehicles should have been recalled Reuters\n",
        "10:38AM  \tTesla Cant Deliver Hypergrowth. Dont Expect Tesla Stock to Either. Barrons.com\n",
        "10:24AM  \tNHTSA reviewing claims 2,000 Tesla vehicles should have been recalled Reuters\n",
        "10:18AM  \tNio's stock slips in volatile trading after Goldman cuts rating, slashes price target by 85% MarketWatch\n",
        "08:47AM  \tThe Zacks Analyst Blog Highlights: Tesla, General Motors, IAA and Douglas Dynamics Zacks\n",
        "06:12AM  \t5 Cash Burn Stocks Face More Declines Ahead Investopedia\n",
        "06:00AM  \tRisky Loans Arent Just for the Markets Insiders Bloomberg\n",
        "05:10AM  \tUK new car sales stuttered in September Financial Times\n",
        "```"
      ]
    },
    {
      "cell_type": "markdown",
      "metadata": {
        "id": "_NkoMX8U6mg0",
        "colab_type": "text"
      },
      "source": [
        "## Trading system"
      ]
    },
    {
      "cell_type": "code",
      "metadata": {
        "id": "vTQOto_P6mg3",
        "colab_type": "code",
        "outputId": "01cf74ec-621e-4d3b-83fd-64a029f79c78",
        "colab": {
          "base_uri": "https://localhost:8080/",
          "height": 72
        }
      },
      "source": [
        "import pandas as pd\n",
        "import nltk\n",
        "from nltk.sentiment.vader import SentimentIntensityAnalyzer\n",
        "import requests\n",
        "import json"
      ],
      "execution_count": 0,
      "outputs": [
        {
          "output_type": "stream",
          "text": [
            "/usr/local/lib/python3.6/dist-packages/nltk/twitter/__init__.py:20: UserWarning: The twython library has not been installed. Some functionality from the twitter package will not be available.\n",
            "  warnings.warn(\"The twython library has not been installed. \"\n"
          ],
          "name": "stderr"
        }
      ]
    },
    {
      "cell_type": "markdown",
      "metadata": {
        "id": "aGncUxDV6mg-",
        "colab_type": "text"
      },
      "source": [
        "#### Variables"
      ]
    },
    {
      "cell_type": "code",
      "metadata": {
        "id": "Sdi1gv_w6mhA",
        "colab_type": "code",
        "colab": {}
      },
      "source": [
        "keyword = \"XAUUSD\""
      ],
      "execution_count": 0,
      "outputs": []
    },
    {
      "cell_type": "code",
      "metadata": {
        "id": "uZn0ed0f6mhE",
        "colab_type": "code",
        "colab": {}
      },
      "source": [
        "url = \"http://finance.rmsmath.com.br:3500/api/tweets/\" + keyword\n",
        "# print(url)"
      ],
      "execution_count": 0,
      "outputs": []
    },
    {
      "cell_type": "markdown",
      "metadata": {
        "id": "OlgsifL16mhK",
        "colab_type": "text"
      },
      "source": [
        "#### Get Tweets from API"
      ]
    },
    {
      "cell_type": "code",
      "metadata": {
        "id": "CL9WJCED6mhL",
        "colab_type": "code",
        "colab": {}
      },
      "source": [
        "headers = {'Cache-Control': \"no-cache\"}\n",
        "\n",
        "response = requests.request(\"GET\", url, headers=headers)"
      ],
      "execution_count": 0,
      "outputs": []
    },
    {
      "cell_type": "code",
      "metadata": {
        "id": "_fWb4cZY6mhP",
        "colab_type": "code",
        "outputId": "4fb9f3d7-c82c-462d-aa82-ddbdec74b11c",
        "colab": {
          "base_uri": "https://localhost:8080/",
          "height": 35
        }
      },
      "source": [
        "tweets = json.loads(response.text)\n",
        "\n",
        "print(\"Number of tweets:\", len(tweets))\n",
        "# for tweet in tweets:\n",
        "  #  print(tweet['text'])"
      ],
      "execution_count": 0,
      "outputs": [
        {
          "output_type": "stream",
          "text": [
            "Number of tweets: 90\n"
          ],
          "name": "stdout"
        }
      ]
    },
    {
      "cell_type": "markdown",
      "metadata": {
        "id": "94n6OnkL6mhS",
        "colab_type": "text"
      },
      "source": [
        "#### Downloading lexicon"
      ]
    },
    {
      "cell_type": "code",
      "metadata": {
        "id": "XnemQ8rh6mhS",
        "colab_type": "code",
        "outputId": "4d79ad0a-7948-4001-f465-9baedfecda96",
        "colab": {
          "base_uri": "https://localhost:8080/",
          "height": 52
        }
      },
      "source": [
        "nltk.download('vader_lexicon')"
      ],
      "execution_count": 0,
      "outputs": [
        {
          "output_type": "stream",
          "text": [
            "[nltk_data] Downloading package vader_lexicon to /root/nltk_data...\n"
          ],
          "name": "stdout"
        },
        {
          "output_type": "execute_result",
          "data": {
            "text/plain": [
              "True"
            ]
          },
          "metadata": {
            "tags": []
          },
          "execution_count": 6
        }
      ]
    },
    {
      "cell_type": "markdown",
      "metadata": {
        "id": "HlnsWvtb6mhW",
        "colab_type": "text"
      },
      "source": [
        "### Dataframe of Tweets"
      ]
    },
    {
      "cell_type": "code",
      "metadata": {
        "id": "GNsIMcnl6mhX",
        "colab_type": "code",
        "outputId": "51490aaa-7753-4d84-c1fc-c3f904039b1e",
        "colab": {
          "base_uri": "https://localhost:8080/",
          "height": 35
        }
      },
      "source": [
        "# Creating a list of tweets\n",
        "tweets_text = list(map(lambda t: t['text'], tweets))\n",
        "tweets_text\n",
        "print(\"Number of tweets:\", len(tweets_text))\n",
        "# for tweet_text in tweets_text:\n",
        "#    print(tweet_text)"
      ],
      "execution_count": 0,
      "outputs": [
        {
          "output_type": "stream",
          "text": [
            "Number of tweets: 90\n"
          ],
          "name": "stdout"
        }
      ]
    },
    {
      "cell_type": "code",
      "metadata": {
        "id": "wkMJctNz6mha",
        "colab_type": "code",
        "colab": {}
      },
      "source": [
        "data = pd.DataFrame(data=tweets_text, columns=['Tweets'])"
      ],
      "execution_count": 0,
      "outputs": []
    },
    {
      "cell_type": "code",
      "metadata": {
        "id": "L8zrwMgM6mhf",
        "colab_type": "code",
        "outputId": "b8a035c2-ffdd-4d58-de47-1314a776c290",
        "colab": {
          "base_uri": "https://localhost:8080/",
          "height": 35
        }
      },
      "source": [
        "data.shape"
      ],
      "execution_count": 0,
      "outputs": [
        {
          "output_type": "execute_result",
          "data": {
            "text/plain": [
              "(90, 1)"
            ]
          },
          "metadata": {
            "tags": []
          },
          "execution_count": 9
        }
      ]
    },
    {
      "cell_type": "code",
      "metadata": {
        "id": "49GPzp3z6mhj",
        "colab_type": "code",
        "outputId": "2eb2345b-d5b4-4959-b824-4bc91b7d4fd7",
        "colab": {
          "base_uri": "https://localhost:8080/",
          "height": 194
        }
      },
      "source": [
        "data.head()"
      ],
      "execution_count": 0,
      "outputs": [
        {
          "output_type": "execute_result",
          "data": {
            "text/html": [
              "<div>\n",
              "<style scoped>\n",
              "    .dataframe tbody tr th:only-of-type {\n",
              "        vertical-align: middle;\n",
              "    }\n",
              "\n",
              "    .dataframe tbody tr th {\n",
              "        vertical-align: top;\n",
              "    }\n",
              "\n",
              "    .dataframe thead th {\n",
              "        text-align: right;\n",
              "    }\n",
              "</style>\n",
              "<table border=\"1\" class=\"dataframe\">\n",
              "  <thead>\n",
              "    <tr style=\"text-align: right;\">\n",
              "      <th></th>\n",
              "      <th>Tweets</th>\n",
              "    </tr>\n",
              "  </thead>\n",
              "  <tbody>\n",
              "    <tr>\n",
              "      <th>0</th>\n",
              "      <td>RT @emekliborsaci: #ipeke rsi negatif uyumsuzl...</td>\n",
              "    </tr>\n",
              "    <tr>\n",
              "      <th>1</th>\n",
              "      <td>El trabajo ligado al trading, da un estilo de ...</td>\n",
              "    </tr>\n",
              "    <tr>\n",
              "      <th>2</th>\n",
              "      <td>RT @emekliborsaci: #halkb bu gecenin en çok so...</td>\n",
              "    </tr>\n",
              "    <tr>\n",
              "      <th>3</th>\n",
              "      <td>New photo posted in &amp;gt; https://t.co/JGw4RdyE...</td>\n",
              "    </tr>\n",
              "    <tr>\n",
              "      <th>4</th>\n",
              "      <td>#XAUUSD, Trump ın da yaşadığı bu dünyada tekni...</td>\n",
              "    </tr>\n",
              "  </tbody>\n",
              "</table>\n",
              "</div>"
            ],
            "text/plain": [
              "                                              Tweets\n",
              "0  RT @emekliborsaci: #ipeke rsi negatif uyumsuzl...\n",
              "1  El trabajo ligado al trading, da un estilo de ...\n",
              "2  RT @emekliborsaci: #halkb bu gecenin en çok so...\n",
              "3  New photo posted in &gt; https://t.co/JGw4RdyE...\n",
              "4  #XAUUSD, Trump ın da yaşadığı bu dünyada tekni..."
            ]
          },
          "metadata": {
            "tags": []
          },
          "execution_count": 10
        }
      ]
    },
    {
      "cell_type": "markdown",
      "metadata": {
        "id": "13mgTsts6mhm",
        "colab_type": "text"
      },
      "source": [
        "### Sentiment analysis"
      ]
    },
    {
      "cell_type": "code",
      "metadata": {
        "id": "o_my9ebg6mhn",
        "colab_type": "code",
        "colab": {}
      },
      "source": [
        "sia = SentimentIntensityAnalyzer()"
      ],
      "execution_count": 0,
      "outputs": []
    },
    {
      "cell_type": "markdown",
      "metadata": {
        "id": "6RQzqqMC6mhq",
        "colab_type": "text"
      },
      "source": [
        "#### Polarity"
      ]
    },
    {
      "cell_type": "code",
      "metadata": {
        "id": "6YV8t9xA6mhs",
        "colab_type": "code",
        "colab": {}
      },
      "source": [
        "sentimentList = []\n",
        "for index, row in data.iterrows():\n",
        "    polarityScore = sia.polarity_scores(row[\"Tweets\"])\n",
        "    sentimentList.append(polarityScore)"
      ],
      "execution_count": 0,
      "outputs": []
    },
    {
      "cell_type": "code",
      "metadata": {
        "id": "VylwcD9w6mhu",
        "colab_type": "code",
        "outputId": "f766ad82-08cf-41f6-a9dc-abea4b01d96c",
        "colab": {
          "base_uri": "https://localhost:8080/",
          "height": 106
        }
      },
      "source": [
        "# Print the first 5 results\n",
        "for x in range(5): \n",
        "    print(sentimentList[x])"
      ],
      "execution_count": 0,
      "outputs": [
        {
          "output_type": "stream",
          "text": [
            "{'neg': 0.0, 'neu': 1.0, 'pos': 0.0, 'compound': 0.0}\n",
            "{'neg': 0.0, 'neu': 1.0, 'pos': 0.0, 'compound': 0.0}\n",
            "{'neg': 0.0, 'neu': 1.0, 'pos': 0.0, 'compound': 0.0}\n",
            "{'neg': 0.0, 'neu': 1.0, 'pos': 0.0, 'compound': 0.0}\n",
            "{'neg': 0.0, 'neu': 1.0, 'pos': 0.0, 'compound': 0.0}\n"
          ],
          "name": "stdout"
        }
      ]
    },
    {
      "cell_type": "code",
      "metadata": {
        "id": "0cvZs1Lq6mhx",
        "colab_type": "code",
        "colab": {}
      },
      "source": [
        "# Transform the list into a series\n",
        "sentimentSeries = pd.Series(sentimentList)"
      ],
      "execution_count": 0,
      "outputs": []
    },
    {
      "cell_type": "code",
      "metadata": {
        "id": "AikWDU8y6mhz",
        "colab_type": "code",
        "colab": {}
      },
      "source": [
        "# Create a new column in the dataframe\n",
        "data['polarity'] = sentimentSeries.values"
      ],
      "execution_count": 0,
      "outputs": []
    },
    {
      "cell_type": "code",
      "metadata": {
        "id": "NDmqmK-A6mh1",
        "colab_type": "code",
        "outputId": "f4c96077-3fa5-4e5f-8c3a-25d6e82ad5d7",
        "colab": {
          "base_uri": "https://localhost:8080/",
          "height": 194
        }
      },
      "source": [
        "data.head()"
      ],
      "execution_count": 0,
      "outputs": [
        {
          "output_type": "execute_result",
          "data": {
            "text/html": [
              "<div>\n",
              "<style scoped>\n",
              "    .dataframe tbody tr th:only-of-type {\n",
              "        vertical-align: middle;\n",
              "    }\n",
              "\n",
              "    .dataframe tbody tr th {\n",
              "        vertical-align: top;\n",
              "    }\n",
              "\n",
              "    .dataframe thead th {\n",
              "        text-align: right;\n",
              "    }\n",
              "</style>\n",
              "<table border=\"1\" class=\"dataframe\">\n",
              "  <thead>\n",
              "    <tr style=\"text-align: right;\">\n",
              "      <th></th>\n",
              "      <th>Tweets</th>\n",
              "      <th>polarity</th>\n",
              "    </tr>\n",
              "  </thead>\n",
              "  <tbody>\n",
              "    <tr>\n",
              "      <th>0</th>\n",
              "      <td>RT @emekliborsaci: #ipeke rsi negatif uyumsuzl...</td>\n",
              "      <td>{'neg': 0.0, 'neu': 1.0, 'pos': 0.0, 'compound...</td>\n",
              "    </tr>\n",
              "    <tr>\n",
              "      <th>1</th>\n",
              "      <td>El trabajo ligado al trading, da un estilo de ...</td>\n",
              "      <td>{'neg': 0.0, 'neu': 1.0, 'pos': 0.0, 'compound...</td>\n",
              "    </tr>\n",
              "    <tr>\n",
              "      <th>2</th>\n",
              "      <td>RT @emekliborsaci: #halkb bu gecenin en çok so...</td>\n",
              "      <td>{'neg': 0.0, 'neu': 1.0, 'pos': 0.0, 'compound...</td>\n",
              "    </tr>\n",
              "    <tr>\n",
              "      <th>3</th>\n",
              "      <td>New photo posted in &amp;gt; https://t.co/JGw4RdyE...</td>\n",
              "      <td>{'neg': 0.0, 'neu': 1.0, 'pos': 0.0, 'compound...</td>\n",
              "    </tr>\n",
              "    <tr>\n",
              "      <th>4</th>\n",
              "      <td>#XAUUSD, Trump ın da yaşadığı bu dünyada tekni...</td>\n",
              "      <td>{'neg': 0.0, 'neu': 1.0, 'pos': 0.0, 'compound...</td>\n",
              "    </tr>\n",
              "  </tbody>\n",
              "</table>\n",
              "</div>"
            ],
            "text/plain": [
              "                                              Tweets                                           polarity\n",
              "0  RT @emekliborsaci: #ipeke rsi negatif uyumsuzl...  {'neg': 0.0, 'neu': 1.0, 'pos': 0.0, 'compound...\n",
              "1  El trabajo ligado al trading, da un estilo de ...  {'neg': 0.0, 'neu': 1.0, 'pos': 0.0, 'compound...\n",
              "2  RT @emekliborsaci: #halkb bu gecenin en çok so...  {'neg': 0.0, 'neu': 1.0, 'pos': 0.0, 'compound...\n",
              "3  New photo posted in &gt; https://t.co/JGw4RdyE...  {'neg': 0.0, 'neu': 1.0, 'pos': 0.0, 'compound...\n",
              "4  #XAUUSD, Trump ın da yaşadığı bu dünyada tekni...  {'neg': 0.0, 'neu': 1.0, 'pos': 0.0, 'compound..."
            ]
          },
          "metadata": {
            "tags": []
          },
          "execution_count": 16
        }
      ]
    },
    {
      "cell_type": "markdown",
      "metadata": {
        "id": "w9Caz3Zt6mh3",
        "colab_type": "text"
      },
      "source": [
        "#### Read dictionary in column \"polarity\""
      ]
    },
    {
      "cell_type": "code",
      "metadata": {
        "id": "lXvxEeJi6mh4",
        "colab_type": "code",
        "colab": {}
      },
      "source": [
        "def read_dict(data, name):\n",
        "\n",
        "    # Internal  function. reacs a cictionary in the rows and makes a coulmn from a keyword\n",
        "    arr = []\n",
        "    length = int(data.shape[0])\n",
        "    for i in range(length):\n",
        "        arr.append(data['polarity'][i][name])\n",
        "    data[name] = arr \n",
        "    return data"
      ],
      "execution_count": 0,
      "outputs": []
    },
    {
      "cell_type": "code",
      "metadata": {
        "id": "Bn5GxZ1f6mh6",
        "colab_type": "code",
        "colab": {}
      },
      "source": [
        "opnions = ['neg', 'neu', 'pos'] # negative, neutral, positive\n",
        "for option in opnions:\n",
        "    data = read_dict(data, option)"
      ],
      "execution_count": 0,
      "outputs": []
    },
    {
      "cell_type": "code",
      "metadata": {
        "id": "8bBy5NqM6mh_",
        "colab_type": "code",
        "outputId": "982aa343-182f-4246-dc9b-9a4386d298b5",
        "colab": {
          "base_uri": "https://localhost:8080/",
          "height": 194
        }
      },
      "source": [
        "data.head()"
      ],
      "execution_count": 0,
      "outputs": [
        {
          "output_type": "execute_result",
          "data": {
            "text/html": [
              "<div>\n",
              "<style scoped>\n",
              "    .dataframe tbody tr th:only-of-type {\n",
              "        vertical-align: middle;\n",
              "    }\n",
              "\n",
              "    .dataframe tbody tr th {\n",
              "        vertical-align: top;\n",
              "    }\n",
              "\n",
              "    .dataframe thead th {\n",
              "        text-align: right;\n",
              "    }\n",
              "</style>\n",
              "<table border=\"1\" class=\"dataframe\">\n",
              "  <thead>\n",
              "    <tr style=\"text-align: right;\">\n",
              "      <th></th>\n",
              "      <th>Tweets</th>\n",
              "      <th>polarity</th>\n",
              "      <th>neg</th>\n",
              "      <th>neu</th>\n",
              "      <th>pos</th>\n",
              "    </tr>\n",
              "  </thead>\n",
              "  <tbody>\n",
              "    <tr>\n",
              "      <th>0</th>\n",
              "      <td>RT @emekliborsaci: #ipeke rsi negatif uyumsuzl...</td>\n",
              "      <td>{'neg': 0.0, 'neu': 1.0, 'pos': 0.0, 'compound...</td>\n",
              "      <td>0.0</td>\n",
              "      <td>1.0</td>\n",
              "      <td>0.0</td>\n",
              "    </tr>\n",
              "    <tr>\n",
              "      <th>1</th>\n",
              "      <td>El trabajo ligado al trading, da un estilo de ...</td>\n",
              "      <td>{'neg': 0.0, 'neu': 1.0, 'pos': 0.0, 'compound...</td>\n",
              "      <td>0.0</td>\n",
              "      <td>1.0</td>\n",
              "      <td>0.0</td>\n",
              "    </tr>\n",
              "    <tr>\n",
              "      <th>2</th>\n",
              "      <td>RT @emekliborsaci: #halkb bu gecenin en çok so...</td>\n",
              "      <td>{'neg': 0.0, 'neu': 1.0, 'pos': 0.0, 'compound...</td>\n",
              "      <td>0.0</td>\n",
              "      <td>1.0</td>\n",
              "      <td>0.0</td>\n",
              "    </tr>\n",
              "    <tr>\n",
              "      <th>3</th>\n",
              "      <td>New photo posted in &amp;gt; https://t.co/JGw4RdyE...</td>\n",
              "      <td>{'neg': 0.0, 'neu': 1.0, 'pos': 0.0, 'compound...</td>\n",
              "      <td>0.0</td>\n",
              "      <td>1.0</td>\n",
              "      <td>0.0</td>\n",
              "    </tr>\n",
              "    <tr>\n",
              "      <th>4</th>\n",
              "      <td>#XAUUSD, Trump ın da yaşadığı bu dünyada tekni...</td>\n",
              "      <td>{'neg': 0.0, 'neu': 1.0, 'pos': 0.0, 'compound...</td>\n",
              "      <td>0.0</td>\n",
              "      <td>1.0</td>\n",
              "      <td>0.0</td>\n",
              "    </tr>\n",
              "  </tbody>\n",
              "</table>\n",
              "</div>"
            ],
            "text/plain": [
              "                                              Tweets  ...  pos\n",
              "0  RT @emekliborsaci: #ipeke rsi negatif uyumsuzl...  ...  0.0\n",
              "1  El trabajo ligado al trading, da un estilo de ...  ...  0.0\n",
              "2  RT @emekliborsaci: #halkb bu gecenin en çok so...  ...  0.0\n",
              "3  New photo posted in &gt; https://t.co/JGw4RdyE...  ...  0.0\n",
              "4  #XAUUSD, Trump ın da yaşadığı bu dünyada tekni...  ...  0.0\n",
              "\n",
              "[5 rows x 5 columns]"
            ]
          },
          "metadata": {
            "tags": []
          },
          "execution_count": 19
        }
      ]
    },
    {
      "cell_type": "markdown",
      "metadata": {
        "id": "AATccjHU6miG",
        "colab_type": "text"
      },
      "source": [
        "#### Remove all 100% neutral"
      ]
    },
    {
      "cell_type": "code",
      "metadata": {
        "id": "YHIyY0TC6miH",
        "colab_type": "code",
        "colab": {}
      },
      "source": [
        "filtered = data[data['neu'] != 1]"
      ],
      "execution_count": 0,
      "outputs": []
    },
    {
      "cell_type": "code",
      "metadata": {
        "id": "fLgkssaa6miM",
        "colab_type": "code",
        "outputId": "03899f83-98bc-4e0f-8ba3-4d16562d98b0",
        "colab": {
          "base_uri": "https://localhost:8080/",
          "height": 35
        }
      },
      "source": [
        "filtered.shape"
      ],
      "execution_count": 0,
      "outputs": [
        {
          "output_type": "execute_result",
          "data": {
            "text/plain": [
              "(19, 5)"
            ]
          },
          "metadata": {
            "tags": []
          },
          "execution_count": 21
        }
      ]
    },
    {
      "cell_type": "code",
      "metadata": {
        "id": "fsnxGzS26miO",
        "colab_type": "code",
        "outputId": "100fd217-cdf0-465a-d851-6cf0fc053cfc",
        "colab": {
          "base_uri": "https://localhost:8080/",
          "height": 194
        }
      },
      "source": [
        "filtered.head()"
      ],
      "execution_count": 0,
      "outputs": [
        {
          "output_type": "execute_result",
          "data": {
            "text/html": [
              "<div>\n",
              "<style scoped>\n",
              "    .dataframe tbody tr th:only-of-type {\n",
              "        vertical-align: middle;\n",
              "    }\n",
              "\n",
              "    .dataframe tbody tr th {\n",
              "        vertical-align: top;\n",
              "    }\n",
              "\n",
              "    .dataframe thead th {\n",
              "        text-align: right;\n",
              "    }\n",
              "</style>\n",
              "<table border=\"1\" class=\"dataframe\">\n",
              "  <thead>\n",
              "    <tr style=\"text-align: right;\">\n",
              "      <th></th>\n",
              "      <th>Tweets</th>\n",
              "      <th>polarity</th>\n",
              "      <th>neg</th>\n",
              "      <th>neu</th>\n",
              "      <th>pos</th>\n",
              "    </tr>\n",
              "  </thead>\n",
              "  <tbody>\n",
              "    <tr>\n",
              "      <th>8</th>\n",
              "      <td>#Gold $XAUUSD drops to five-day lows near $1,4...</td>\n",
              "      <td>{'neg': 0.114, 'neu': 0.886, 'pos': 0.0, 'comp...</td>\n",
              "      <td>0.114</td>\n",
              "      <td>0.886</td>\n",
              "      <td>0.000</td>\n",
              "    </tr>\n",
              "    <tr>\n",
              "      <th>14</th>\n",
              "      <td>RT @TradingHurst: $XAUUSD #gold and price stop...</td>\n",
              "      <td>{'neg': 0.066, 'neu': 0.934, 'pos': 0.0, 'comp...</td>\n",
              "      <td>0.066</td>\n",
              "      <td>0.934</td>\n",
              "      <td>0.000</td>\n",
              "    </tr>\n",
              "    <tr>\n",
              "      <th>24</th>\n",
              "      <td>$Gold $XAUUSD an impulsive move down through p...</td>\n",
              "      <td>{'neg': 0.0, 'neu': 0.87, 'pos': 0.13, 'compou...</td>\n",
              "      <td>0.000</td>\n",
              "      <td>0.870</td>\n",
              "      <td>0.130</td>\n",
              "    </tr>\n",
              "    <tr>\n",
              "      <th>28</th>\n",
              "      <td>[Trade of the Day] 🎯 Our trader took an advant...</td>\n",
              "      <td>{'neg': 0.1, 'neu': 0.806, 'pos': 0.095, 'comp...</td>\n",
              "      <td>0.100</td>\n",
              "      <td>0.806</td>\n",
              "      <td>0.095</td>\n",
              "    </tr>\n",
              "    <tr>\n",
              "      <th>37</th>\n",
              "      <td>RT @solomitchy: XAUUSD sell funded our London ...</td>\n",
              "      <td>{'neg': 0.0, 'neu': 0.769, 'pos': 0.231, 'comp...</td>\n",
              "      <td>0.000</td>\n",
              "      <td>0.769</td>\n",
              "      <td>0.231</td>\n",
              "    </tr>\n",
              "  </tbody>\n",
              "</table>\n",
              "</div>"
            ],
            "text/plain": [
              "                                               Tweets  ...    pos\n",
              "8   #Gold $XAUUSD drops to five-day lows near $1,4...  ...  0.000\n",
              "14  RT @TradingHurst: $XAUUSD #gold and price stop...  ...  0.000\n",
              "24  $Gold $XAUUSD an impulsive move down through p...  ...  0.130\n",
              "28  [Trade of the Day] 🎯 Our trader took an advant...  ...  0.095\n",
              "37  RT @solomitchy: XAUUSD sell funded our London ...  ...  0.231\n",
              "\n",
              "[5 rows x 5 columns]"
            ]
          },
          "metadata": {
            "tags": []
          },
          "execution_count": 22
        }
      ]
    },
    {
      "cell_type": "markdown",
      "metadata": {
        "id": "9R6C_TiC6miQ",
        "colab_type": "text"
      },
      "source": [
        "#### Spliting values"
      ]
    },
    {
      "cell_type": "code",
      "metadata": {
        "id": "zIZQbW1S6miR",
        "colab_type": "code",
        "colab": {}
      },
      "source": [
        "result = filtered.sum(axis = 0)"
      ],
      "execution_count": 0,
      "outputs": []
    },
    {
      "cell_type": "code",
      "metadata": {
        "id": "f7_PyeAW6miT",
        "colab_type": "code",
        "outputId": "35e0da64-5df3-4df4-b942-1da8d9da3982",
        "colab": {
          "base_uri": "https://localhost:8080/",
          "height": 106
        }
      },
      "source": [
        "# print(result)"
      ],
      "execution_count": 0,
      "outputs": [
        {
          "output_type": "stream",
          "text": [
            "Tweets    #Gold $XAUUSD drops to five-day lows near $1,4...\n",
            "neg                                                   0.526\n",
            "neu                                                  15.884\n",
            "pos                                                   2.591\n",
            "dtype: object\n"
          ],
          "name": "stdout"
        }
      ]
    },
    {
      "cell_type": "code",
      "metadata": {
        "id": "rSzBMKgS6miW",
        "colab_type": "code",
        "colab": {}
      },
      "source": [
        "result.drop(['Tweets'], inplace=True)"
      ],
      "execution_count": 0,
      "outputs": []
    },
    {
      "cell_type": "code",
      "metadata": {
        "id": "HieGX9UB6miY",
        "colab_type": "code",
        "outputId": "259cc7a0-239b-47fd-f282-133007cd489a",
        "colab": {
          "base_uri": "https://localhost:8080/",
          "height": 88
        }
      },
      "source": [
        "print(result)"
      ],
      "execution_count": 0,
      "outputs": [
        {
          "output_type": "stream",
          "text": [
            "neg     0.526\n",
            "neu    15.884\n",
            "pos     2.591\n",
            "dtype: object\n"
          ],
          "name": "stdout"
        }
      ]
    },
    {
      "cell_type": "markdown",
      "metadata": {
        "id": "DM-gEP7r6mib",
        "colab_type": "text"
      },
      "source": [
        "#### Define the sentiment"
      ]
    },
    {
      "cell_type": "code",
      "metadata": {
        "id": "x1PF2a8a6mic",
        "colab_type": "code",
        "colab": {}
      },
      "source": [
        "# if negative sentiment is three times bigger than positive sentiment\n",
        "if result['neg'] > 3*result['pos']:\n",
        "    sentiment = -3\n",
        "\n",
        "# else if negative sentiment is twice bigger than positive sentiment\n",
        "elif result['neg'] > 2*result['pos']:\n",
        "    sentiment = -2\n",
        "    \n",
        "# else if negative sentiment is a bit bigger than positive sentiment\n",
        "elif result['neg'] > result['pos']:\n",
        "    sentiment = -1\n",
        "\n",
        "# else if negative sentiment is three times smaller than positive sentiment\n",
        "elif 3*result['neg'] < result['pos']:\n",
        "    sentiment = 3\n",
        "\n",
        "# else if negative sentiment is twice smaller than positive sentiment\n",
        "elif 2*result['neg'] < result['pos']:\n",
        "    sentiment = 2\n",
        "\n",
        "# else if negative sentiment is a bit smaller than positive sentiment\n",
        "elif result['neg'] < result['pos']:\n",
        "    sentiment = 1\n",
        "\n",
        "# else NOBODY CARES ABOUT YOUR KEYWORD\n",
        "else:\n",
        "    sentiment = 0"
      ],
      "execution_count": 0,
      "outputs": []
    },
    {
      "cell_type": "code",
      "metadata": {
        "id": "wZhV-8Ek6mig",
        "colab_type": "code",
        "outputId": "edec7bed-ce5c-4252-c981-958366c7413a",
        "colab": {
          "base_uri": "https://localhost:8080/",
          "height": 35
        }
      },
      "source": [
        "print(sentiment)"
      ],
      "execution_count": 0,
      "outputs": [
        {
          "output_type": "stream",
          "text": [
            "3\n"
          ],
          "name": "stdout"
        }
      ]
    },
    {
      "cell_type": "code",
      "metadata": {
        "id": "6fDd5nGJ6mij",
        "colab_type": "code",
        "outputId": "59695534-7e3c-46f7-b42c-392412820e10",
        "colab": {
          "base_uri": "https://localhost:8080/",
          "height": 604
        }
      },
      "source": [
        "filtered"
      ],
      "execution_count": 0,
      "outputs": [
        {
          "output_type": "execute_result",
          "data": {
            "text/html": [
              "<div>\n",
              "<style scoped>\n",
              "    .dataframe tbody tr th:only-of-type {\n",
              "        vertical-align: middle;\n",
              "    }\n",
              "\n",
              "    .dataframe tbody tr th {\n",
              "        vertical-align: top;\n",
              "    }\n",
              "\n",
              "    .dataframe thead th {\n",
              "        text-align: right;\n",
              "    }\n",
              "</style>\n",
              "<table border=\"1\" class=\"dataframe\">\n",
              "  <thead>\n",
              "    <tr style=\"text-align: right;\">\n",
              "      <th></th>\n",
              "      <th>Tweets</th>\n",
              "      <th>polarity</th>\n",
              "      <th>neg</th>\n",
              "      <th>neu</th>\n",
              "      <th>pos</th>\n",
              "    </tr>\n",
              "  </thead>\n",
              "  <tbody>\n",
              "    <tr>\n",
              "      <th>8</th>\n",
              "      <td>#Gold $XAUUSD drops to five-day lows near $1,4...</td>\n",
              "      <td>{'neg': 0.114, 'neu': 0.886, 'pos': 0.0, 'comp...</td>\n",
              "      <td>0.114</td>\n",
              "      <td>0.886</td>\n",
              "      <td>0.000</td>\n",
              "    </tr>\n",
              "    <tr>\n",
              "      <th>14</th>\n",
              "      <td>RT @TradingHurst: $XAUUSD #gold and price stop...</td>\n",
              "      <td>{'neg': 0.066, 'neu': 0.934, 'pos': 0.0, 'comp...</td>\n",
              "      <td>0.066</td>\n",
              "      <td>0.934</td>\n",
              "      <td>0.000</td>\n",
              "    </tr>\n",
              "    <tr>\n",
              "      <th>24</th>\n",
              "      <td>$Gold $XAUUSD an impulsive move down through p...</td>\n",
              "      <td>{'neg': 0.0, 'neu': 0.87, 'pos': 0.13, 'compou...</td>\n",
              "      <td>0.000</td>\n",
              "      <td>0.870</td>\n",
              "      <td>0.130</td>\n",
              "    </tr>\n",
              "    <tr>\n",
              "      <th>28</th>\n",
              "      <td>[Trade of the Day] 🎯 Our trader took an advant...</td>\n",
              "      <td>{'neg': 0.1, 'neu': 0.806, 'pos': 0.095, 'comp...</td>\n",
              "      <td>0.100</td>\n",
              "      <td>0.806</td>\n",
              "      <td>0.095</td>\n",
              "    </tr>\n",
              "    <tr>\n",
              "      <th>37</th>\n",
              "      <td>RT @solomitchy: XAUUSD sell funded our London ...</td>\n",
              "      <td>{'neg': 0.0, 'neu': 0.769, 'pos': 0.231, 'comp...</td>\n",
              "      <td>0.000</td>\n",
              "      <td>0.769</td>\n",
              "      <td>0.231</td>\n",
              "    </tr>\n",
              "    <tr>\n",
              "      <th>38</th>\n",
              "      <td>XAUUSD sell funded our London trip haha. \\n\\nI...</td>\n",
              "      <td>{'neg': 0.0, 'neu': 0.727, 'pos': 0.273, 'comp...</td>\n",
              "      <td>0.000</td>\n",
              "      <td>0.727</td>\n",
              "      <td>0.273</td>\n",
              "    </tr>\n",
              "    <tr>\n",
              "      <th>61</th>\n",
              "      <td>$XAUUSD DLY : même remarque que $EURUSD avec e...</td>\n",
              "      <td>{'neg': 0.0, 'neu': 0.876, 'pos': 0.124, 'comp...</td>\n",
              "      <td>0.000</td>\n",
              "      <td>0.876</td>\n",
              "      <td>0.124</td>\n",
              "    </tr>\n",
              "    <tr>\n",
              "      <th>64</th>\n",
              "      <td>Gold | $XAUUSD | $XAU $USD\\n\\nGOLD now it look...</td>\n",
              "      <td>{'neg': 0.0, 'neu': 0.894, 'pos': 0.106, 'comp...</td>\n",
              "      <td>0.000</td>\n",
              "      <td>0.894</td>\n",
              "      <td>0.106</td>\n",
              "    </tr>\n",
              "    <tr>\n",
              "      <th>71</th>\n",
              "      <td>RT @_mynamefiddla: @Daddy_Drisco I know you se...</td>\n",
              "      <td>{'neg': 0.116, 'neu': 0.884, 'pos': 0.0, 'comp...</td>\n",
              "      <td>0.116</td>\n",
              "      <td>0.884</td>\n",
              "      <td>0.000</td>\n",
              "    </tr>\n",
              "    <tr>\n",
              "      <th>73</th>\n",
              "      <td>@Daddy_Drisco I know you seen my markup for XA...</td>\n",
              "      <td>{'neg': 0.13, 'neu': 0.87, 'pos': 0.0, 'compou...</td>\n",
              "      <td>0.130</td>\n",
              "      <td>0.870</td>\n",
              "      <td>0.000</td>\n",
              "    </tr>\n",
              "    <tr>\n",
              "      <th>74</th>\n",
              "      <td>Sold #XAUUSD 1491.32 For Free #signals #tips W...</td>\n",
              "      <td>{'neg': 0.0, 'neu': 0.752, 'pos': 0.248, 'comp...</td>\n",
              "      <td>0.000</td>\n",
              "      <td>0.752</td>\n",
              "      <td>0.248</td>\n",
              "    </tr>\n",
              "    <tr>\n",
              "      <th>75</th>\n",
              "      <td>Sold #XAUUSD 1491.09 For Free #signals #tips W...</td>\n",
              "      <td>{'neg': 0.0, 'neu': 0.752, 'pos': 0.248, 'comp...</td>\n",
              "      <td>0.000</td>\n",
              "      <td>0.752</td>\n",
              "      <td>0.248</td>\n",
              "    </tr>\n",
              "    <tr>\n",
              "      <th>76</th>\n",
              "      <td>Bought #XAUUSD 1491.13 For Free #signals #tips...</td>\n",
              "      <td>{'neg': 0.0, 'neu': 0.752, 'pos': 0.248, 'comp...</td>\n",
              "      <td>0.000</td>\n",
              "      <td>0.752</td>\n",
              "      <td>0.248</td>\n",
              "    </tr>\n",
              "    <tr>\n",
              "      <th>77</th>\n",
              "      <td>Closed Buy #XAUUSD 1504.26 for -1293.0 pips, t...</td>\n",
              "      <td>{'neg': 0.0, 'neu': 0.852, 'pos': 0.148, 'comp...</td>\n",
              "      <td>0.000</td>\n",
              "      <td>0.852</td>\n",
              "      <td>0.148</td>\n",
              "    </tr>\n",
              "    <tr>\n",
              "      <th>78</th>\n",
              "      <td>Closed Sell #XAUUSD 1511.74 for +1656.0 pips, ...</td>\n",
              "      <td>{'neg': 0.0, 'neu': 0.852, 'pos': 0.148, 'comp...</td>\n",
              "      <td>0.000</td>\n",
              "      <td>0.852</td>\n",
              "      <td>0.148</td>\n",
              "    </tr>\n",
              "    <tr>\n",
              "      <th>79</th>\n",
              "      <td>Closed Sell #XAUUSD 1499.56 for +438.0 pips, t...</td>\n",
              "      <td>{'neg': 0.0, 'neu': 0.852, 'pos': 0.148, 'comp...</td>\n",
              "      <td>0.000</td>\n",
              "      <td>0.852</td>\n",
              "      <td>0.148</td>\n",
              "    </tr>\n",
              "    <tr>\n",
              "      <th>80</th>\n",
              "      <td>Closed Sell #XAUUSD 1488.32 for -686.0 pips, t...</td>\n",
              "      <td>{'neg': 0.0, 'neu': 0.852, 'pos': 0.148, 'comp...</td>\n",
              "      <td>0.000</td>\n",
              "      <td>0.852</td>\n",
              "      <td>0.148</td>\n",
              "    </tr>\n",
              "    <tr>\n",
              "      <th>81</th>\n",
              "      <td>Closed Sell #XAUUSD 1477.15 for -1803.0 pips, ...</td>\n",
              "      <td>{'neg': 0.0, 'neu': 0.852, 'pos': 0.148, 'comp...</td>\n",
              "      <td>0.000</td>\n",
              "      <td>0.852</td>\n",
              "      <td>0.148</td>\n",
              "    </tr>\n",
              "    <tr>\n",
              "      <th>82</th>\n",
              "      <td>Closed Sell #XAUUSD 1466.14 for -2904.0 pips, ...</td>\n",
              "      <td>{'neg': 0.0, 'neu': 0.852, 'pos': 0.148, 'comp...</td>\n",
              "      <td>0.000</td>\n",
              "      <td>0.852</td>\n",
              "      <td>0.148</td>\n",
              "    </tr>\n",
              "  </tbody>\n",
              "</table>\n",
              "</div>"
            ],
            "text/plain": [
              "                                               Tweets  ...    pos\n",
              "8   #Gold $XAUUSD drops to five-day lows near $1,4...  ...  0.000\n",
              "14  RT @TradingHurst: $XAUUSD #gold and price stop...  ...  0.000\n",
              "24  $Gold $XAUUSD an impulsive move down through p...  ...  0.130\n",
              "28  [Trade of the Day] 🎯 Our trader took an advant...  ...  0.095\n",
              "37  RT @solomitchy: XAUUSD sell funded our London ...  ...  0.231\n",
              "38  XAUUSD sell funded our London trip haha. \\n\\nI...  ...  0.273\n",
              "61  $XAUUSD DLY : même remarque que $EURUSD avec e...  ...  0.124\n",
              "64  Gold | $XAUUSD | $XAU $USD\\n\\nGOLD now it look...  ...  0.106\n",
              "71  RT @_mynamefiddla: @Daddy_Drisco I know you se...  ...  0.000\n",
              "73  @Daddy_Drisco I know you seen my markup for XA...  ...  0.000\n",
              "74  Sold #XAUUSD 1491.32 For Free #signals #tips W...  ...  0.248\n",
              "75  Sold #XAUUSD 1491.09 For Free #signals #tips W...  ...  0.248\n",
              "76  Bought #XAUUSD 1491.13 For Free #signals #tips...  ...  0.248\n",
              "77  Closed Buy #XAUUSD 1504.26 for -1293.0 pips, t...  ...  0.148\n",
              "78  Closed Sell #XAUUSD 1511.74 for +1656.0 pips, ...  ...  0.148\n",
              "79  Closed Sell #XAUUSD 1499.56 for +438.0 pips, t...  ...  0.148\n",
              "80  Closed Sell #XAUUSD 1488.32 for -686.0 pips, t...  ...  0.148\n",
              "81  Closed Sell #XAUUSD 1477.15 for -1803.0 pips, ...  ...  0.148\n",
              "82  Closed Sell #XAUUSD 1466.14 for -2904.0 pips, ...  ...  0.148\n",
              "\n",
              "[19 rows x 5 columns]"
            ]
          },
          "metadata": {
            "tags": []
          },
          "execution_count": 29
        }
      ]
    },
    {
      "cell_type": "code",
      "metadata": {
        "id": "MkhXQFAPKwss",
        "colab_type": "code",
        "outputId": "85badfe8-f857-4d8d-cdf8-91969b68e7aa",
        "colab": {
          "base_uri": "https://localhost:8080/",
          "height": 35
        }
      },
      "source": [
        "import urllib\n",
        "\n",
        "keyword = \"XAUUSD\"\n",
        "url = \"http://finance.rmsmath.com.br:3500/api/tweets/\" + keyword\n",
        "print(url)\n",
        "\n",
        "output = urllib.request.urlopen(url).read()\n",
        "\n"
      ],
      "execution_count": 0,
      "outputs": [
        {
          "output_type": "stream",
          "text": [
            "http://finance.rmsmath.com.br:3500/api/tweets/XAUUSD\n"
          ],
          "name": "stdout"
        }
      ]
    },
    {
      "cell_type": "code",
      "metadata": {
        "id": "kP2ygxQRRJyd",
        "colab_type": "code",
        "outputId": "348c526c-2b6e-46ad-9ed2-2d2f0e8ca68e",
        "colab": {
          "base_uri": "https://localhost:8080/",
          "height": 55
        }
      },
      "source": [
        "print(output)"
      ],
      "execution_count": 0,
      "outputs": [
        {
          "output_type": "stream",
          "text": [
            "b'[{\"created_at\":\"Mon Oct 07 22:10:02 +0000 2019\",\"text\":\"#XAUUSD - XAUUSD - TradingView - https://t.co/162p7AILm8\"},{\"created_at\":\"Mon Oct 07 22:05:45 +0000 2019\",\"text\":\"#XU100 \\\\n#usdtry\\\\n#Brent\\\\n#XAUUSD  TOBO \\xc4\\xb0LE 1504 $ons pivot d\\xc3\\xbczeltme seviye ye GEL\\xc4\\xb0NCE co\\xc5\\x9fku yu TAK\\xc4\\xb0P edelim g\\xc3\\xbcncel F\\xc4\\xb0\\xe2\\x80\\xa6 https://t.co/RJMm1BupkJ\"},{\"created_at\":\"Mon Oct 07 22:05:15 +0000 2019\",\"text\":\"Technicals done.\\\\n\\\\nFollow the arrows this week. I will teach you to track volume by reading order flow.\\\\n\\\\nGold outloo\\xe2\\x80\\xa6 https://t.co/EOL3ZihzN2\"},{\"created_at\":\"Mon Oct 07 22:03:01 +0000 2019\",\"text\":\"Gold | $XAUUSD | $XAU $USD\\\\n\\\\nxau Sell OrDeR\\\\n\\\\nLong or short it on WCX: https://t.co/2kfJ8dots9 https://t.co/ukL9UIEVC5\"},{\"created_at\":\"Mon Oct 07 21:58:56 +0000 2019\",\"text\":\"RT @bilgeefe: #xauusd i\\xc5\\x9flem yapacaks\\xc4\\xb1n #usdjpy nin durumuna bakt\\xc4\\xb1n m\\xc4\\xb1?Ordan da bir \\xc5\\x9fey \\xc3\\xa7\\xc4\\xb1karamad\\xc4\\xb1n jpy etkileyebilir  #spx bakmaya ne dersi\\xe2\\x80\\xa6\"},{\"created_at\":\"Mon Oct 07 21:47:55 +0000 2019\",\"text\":\"#DolarTL Teknik G\\xc3\\xb6r\\xc3\\xbcn\\xc3\\xbcm ;\\\\nDolarda 5.8550 k\\xc4\\xb1r\\xc4\\xb1l\\xc4\\xb1m\\xc4\\xb1na \\xc3\\xa7ok dikkat arkada\\xc5\\x9flar. \\xc3\\x9czerinde tutunursa s\\xc4\\xb1rayla 6.00-6.10 ka\\xc3\\xa7\\xe2\\x80\\xa6 https://t.co/8GJRfuKba1\"},{\"created_at\":\"Mon Oct 07 21:40:32 +0000 2019\",\"text\":\"XAUUSD 1488 usd can turn.... - #XAUUSD chart https://t.co/hQrRfRtAzX\"},{\"created_at\":\"Mon Oct 07 21:39:20 +0000 2019\",\"text\":\"#FOREX TRADE PLAN AND REVIEW FOR 08/10/19 \\\\n#XAUUSD, #EURUSD, #USDCHF, #GBPUSD,#EURGBP, #GBPCHF, #AUDUSD, #USDJPY,\\xe2\\x80\\xa6 https://t.co/gIAI3C7I1p\"},{\"created_at\":\"Mon Oct 07 21:36:01 +0000 2019\",\"text\":\"Gold | $XAUUSD | $XAU $USD\\\\n\\\\nXAUUUSD GOLD 4H SHORT\\\\n\\\\nLong or short it on WCX: https://t.co/2kfJ8dots9 https://t.co/utA0Dzrk98\"},{\"created_at\":\"Mon Oct 07 21:30:01 +0000 2019\",\"text\":\"Gold | $XAUUSD | $XAU $USD\\\\n\\\\nGOLD H1 Sell Setup\\\\n\\\\nLong or short it on WCX: https://t.co/L3oGkoJgoU https://t.co/g2K78lXkuE\"},{\"created_at\":\"Mon Oct 07 21:29:30 +0000 2019\",\"text\":\"RT @es_tradingview: #XAUUSD - ENTRADA CON FIBO - TradingView - https://t.co/0YZptbddlS\"},{\"created_at\":\"Mon Oct 07 21:27:05 +0000 2019\",\"text\":\"Dislaimer just a general view just sharing my thoughts https://t.co/SnsVItkMSn \\xf0\\x9f\\x99\\x8bCrypto Cashflow \\xf0\\x9f\\x94\\xa5 via\\xe2\\x9f\\xb6\\xe2\\x80\\xa6 https://t.co/4Z9BNJeF18\"},{\"created_at\":\"Mon Oct 07 21:24:13 +0000 2019\",\"text\":\"$GOLD continues to consolidate in a tightening range, which has been positive for the bulls. There is plenty of sup\\xe2\\x80\\xa6 https://t.co/hc8xD55b9q\"},{\"created_at\":\"Mon Oct 07 21:23:03 +0000 2019\",\"text\":\"#DolarTL Teknik G\\xc3\\xb6r\\xc3\\xbcn\\xc3\\xbcm ;\\\\nDolarda 5.8550 k\\xc4\\xb1r\\xc4\\xb1l\\xc4\\xb1m\\xc4\\xb1na \\xc3\\xa7ok dikkat arkada\\xc5\\x9flar. \\xc3\\x9czerinde tutunursa s\\xc4\\xb1rayla 6.00-6.10 ka\\xc3\\xa7\\xe2\\x80\\xa6 https://t.co/BTh4dfrT5C\"},{\"created_at\":\"Mon Oct 07 21:20:00 +0000 2019\",\"text\":\"#XAUUSD - ENTRADA CON FIBO - TradingView - https://t.co/0YZptbddlS\"},{\"created_at\":\"Mon Oct 07 21:16:23 +0000 2019\",\"text\":\"https://t.co/aJ38aVksbJ \\\\n\\\\nTrade now from London free signals for one year \\\\nContact now on 07378865994\\\\nMake money wh\\xe2\\x80\\xa6 https://t.co/xpA8MUcZ9c\"},{\"created_at\":\"Mon Oct 07 21:12:58 +0000 2019\",\"text\":\"RT @emekliborsaci: #ENDEKS 102,777 ilk deste\\xc4\\x9fimiz alt\\xc4\\xb1na d\\xc3\\xbc\\xc5\\x9fer ise 101,888 ana destek seviyemdir alt\\xc4\\xb1na d\\xc3\\xbc\\xc5\\x9fer ise komple stop olurum.\\\\n\\\\n#bor\\xe2\\x80\\xa6\"},{\"created_at\":\"Mon Oct 07 21:10:11 +0000 2019\",\"text\":\"RT @cerentuzca: B\\xc4\\xb0RTAKIM \\xc4\\xb0STAT\\xc4\\xb0ST\\xc4\\xb0KLER\\xf0\\x9f\\x94\\xa5\\xf0\\x9f\\x93\\xa3\\\\n\\\\n12 \\xc4\\xb0\\xc5\\x9flem g\\xc3\\xbcn\\xc3\\xbc sonunda portf\\xc3\\xb6y k\\xc3\\xa2r ile %28.1 b\\xc3\\xbcy\\xc3\\xbcd\\xc3\\xbc\\\\n\\\\n#forex #bist100 #viop #varant #brent #xauusd\\xe2\\x80\\xa6\"},{\"created_at\":\"Mon Oct 07 21:08:57 +0000 2019\",\"text\":\"RT @TurkElit: ALTIN YATIRIMCISI D\\xc4\\xb0KKAT! GRAM ALTIN ve ONS ALTIN NE OLACAK?? \\\\n#xauusd #gold #gautry #alt\\xc4\\xb1n #Trump \\\\nhttps://t.co/D0kZ0H1Bl1 @\\xe2\\x80\\xa6\"},{\"created_at\":\"Mon Oct 07 21:04:52 +0000 2019\",\"text\":\"Dolar Destek Diren\\xc3\\xa7 8 Ekim 2019 https://t.co/c0pykbqhCl\\\\n\\\\n#DolarTL #eurtry #hisseanaliz #forex #usdtry #gbpusd\\xe2\\x80\\xa6 https://t.co/OFhpvJWfGm\"},{\"created_at\":\"Mon Oct 07 21:02:45 +0000 2019\",\"text\":\"RT @MyforexMy: Eyl\\xc3\\xbcl ay\\xc4\\xb1 grup i\\xc5\\x9flemlerimiz \\xf0\\x9f\\x98\\x8c\\xf0\\x9f\\xa4\\x93 Ba\\xc5\\x9far\\xc4\\xb1 oran\\xc4\\xb1m\\xc4\\xb1z %61 \\\\n@fxcanli \\\\n#dax30  \\\\n #bist100 #forextrading #forex #forexsignals #XAUUSD\\xe2\\x80\\xa6\"},{\"created_at\":\"Mon Oct 07 21:01:43 +0000 2019\",\"text\":\"RT @bilgeefe: #xauusd i\\xc5\\x9flem yapacaks\\xc4\\xb1n #usdjpy nin durumuna bakt\\xc4\\xb1n m\\xc4\\xb1?Ordan da bir \\xc5\\x9fey \\xc3\\xa7\\xc4\\xb1karamad\\xc4\\xb1n jpy etkileyebilir  #spx bakmaya ne dersi\\xe2\\x80\\xa6\"},{\"created_at\":\"Mon Oct 07 21:01:24 +0000 2019\",\"text\":\"Evet arkada\\xc5\\x9flar son olaylar \\xc3\\xbczerine sorular\\xc4\\xb1n\\xc4\\xb1z\\xc4\\xb1 alabiliriz.(Analiz ama\\xc3\\xa7l\\xc4\\xb1)\\\\n#TuerkMilletiOrdusununYan\\xc4\\xb1nda #Trump\\xe2\\x80\\xa6 https://t.co/xqELdUJhP9\"},{\"created_at\":\"Mon Oct 07 20:58:13 +0000 2019\",\"text\":\"RT @emekliborsaci: #ipeke rsi negatif uyumsuzluk mevcut, k\\xc4\\xb1rm\\xc4\\xb1z\\xc4\\xb1 \\xc3\\xbczerine \\xc3\\xa7\\xc4\\xb1kamaz ise d\\xc3\\xbc\\xc5\\x9f\\xc3\\xbc\\xc5\\x9f devam edecektir.\\\\n\\\\n#borsa #dolar #dolartl #xauusd\\xe2\\x80\\xa6\"},{\"created_at\":\"Mon Oct 07 20:57:26 +0000 2019\",\"text\":\"El trabajo ligado al trading, da un estilo de vida que siempre so\\xc3\\xb1amos.\\\\n\\\\nCONT\\xc3\\x81CTAME para orientarte en el aprendiza\\xe2\\x80\\xa6 https://t.co/4dxIaBlJMW\"},{\"created_at\":\"Mon Oct 07 20:56:55 +0000 2019\",\"text\":\"RT @emekliborsaci: #halkb bu gecenin en \\xc3\\xa7ok sorulan hissesi galiba 6,03 onay b\\xc3\\xb6lgesidir 6,01 alt\\xc4\\xb1na d\\xc3\\xbc\\xc5\\x9fer ise d\\xc3\\xbc\\xc5\\x9f\\xc3\\xbc\\xc5\\x9f ba\\xc5\\x9flayabilir.\\\\n\\\\n#borsa #\\xe2\\x80\\xa6\"},{\"created_at\":\"Mon Oct 07 20:56:47 +0000 2019\",\"text\":\"New photo posted in &gt; https://t.co/JGw4RdyEBj $EURUSD $GBPUSD $USDJPY $AAPL $GOOGL $XAUUSD $Forex $BTCUSD $Forex\\xe2\\x80\\xa6 https://t.co/zkgnMzIMJ5\"},{\"created_at\":\"Mon Oct 07 20:56:06 +0000 2019\",\"text\":\"#XAUUSD, Trump \\xc4\\xb1n da ya\\xc5\\x9fad\\xc4\\xb1\\xc4\\x9f\\xc4\\xb1 bu d\\xc3\\xbcnyada teknik analiz yapmak.. Teknik, \\xc3\\x87\\xc4\\xb0N-ABD aras\\xc4\\xb1ndaki g\\xc3\\xb6r\\xc3\\xbc\\xc5\\x9fmelerden pozitif bi\\xe2\\x80\\xa6 https://t.co/F8fVMcumDr\"},{\"created_at\":\"Mon Oct 07 20:52:59 +0000 2019\",\"text\":\"XAUUSD, 15\\\\n\\xe9\\x87\\x91\\xef\\xbc\\x8f\\xe7\\xb1\\xb3\\xe3\\x83\\x89\\xe3\\x83\\xab https://t.co/d5QR3Chrk2\"},{\"created_at\":\"Mon Oct 07 20:50:12 +0000 2019\",\"text\":\"RT @bilgeefe: #xauusd i\\xc5\\x9flem yapacaks\\xc4\\xb1n #usdjpy nin durumuna bakt\\xc4\\xb1n m\\xc4\\xb1?Ordan da bir \\xc5\\x9fey \\xc3\\xa7\\xc4\\xb1karamad\\xc4\\xb1n jpy etkileyebilir  #spx bakmaya ne dersi\\xe2\\x80\\xa6\"},{\"created_at\":\"Mon Oct 07 20:48:16 +0000 2019\",\"text\":\"#xu100\\\\n#usdtry\\\\n#Brent\\\\n#XAUUSD\\\\nTehdit ediyor ve B\\xc4\\xb0R \\xc3\\xb6nceki eko dalgalanmay\\xc4\\xb1 itiraf ED\\xc4\\xb0YOR prezident sar\\xc4\\xb1 bukle \\\\nhttps://t.co/p5XfyvdyAY\"},{\"created_at\":\"Mon Oct 07 20:47:09 +0000 2019\",\"text\":\"#Gold $XAUUSD drops to five-day lows near $1,490 as markets start pricing a US-China trade deal.\"},{\"created_at\":\"Mon Oct 07 20:46:39 +0000 2019\",\"text\":\"Order opened: Ticket 47814719 Sell  XAUUSD @ 1492.67\"},{\"created_at\":\"Mon Oct 07 20:46:28 +0000 2019\",\"text\":\"The $XAUUSD pair fluctuated in a relatively tight range near the $1,500 mark throughout the day before coming under\\xe2\\x80\\xa6 https://t.co/gG8YfK9XEL\"},{\"created_at\":\"Mon Oct 07 20:45:50 +0000 2019\",\"text\":\"RT @proffibonacci: Ons Alt\\xc4\\xb1n\\xe2\\x80\\x99da g\\xc3\\xbcnl\\xc3\\xbck pivot seviye $1497,17. Bu seviyenin \\xc3\\xbczerinde g\\xc3\\xbcnl\\xc3\\xbck kapan\\xc4\\xb1\\xc5\\x9flar al\\xc4\\xb1c\\xc4\\xb1lar\\xc4\\xb1 \\xc3\\xa7ekecektir. Bu seviye \\xc3\\xbczeri\\xe2\\x80\\xa6\"},{\"created_at\":\"Mon Oct 07 20:45:32 +0000 2019\",\"text\":\"RT @fnfefn: #\\xd8\\xa7\\xd9\\x84\\xd8\\xb0\\xd9\\x87\\xd8\\xa8 \\xd9\\x85\\xd8\\xa7\\xd8\\xb4\\xd9\\x8a \\xd8\\xad\\xd8\\xb3\\xd8\\xa8 \\xd8\\xa7\\xd9\\x84\\xd8\\xb3\\xd9\\x8a\\xd9\\x86\\xd8\\xa7\\xd8\\xb1\\xd9\\x8a\\xd9\\x88 \\xf0\\x9f\\x91\\x8c   \\xd9\\x8a\\xd9\\x81\\xd8\\xaa\\xd8\\xb1\\xd8\\xb6 \\xd9\\x85\\xd9\\x86 \\xd9\\x8a\\xd9\\x88\\xd9\\x85 \\xd9\\x82\\xd9\\x84\\xd9\\x86\\xd8\\xa7  \\xd9\\x84\\xd9\\x83 \\xd9\\x88\\xd9\\x84\\xd9\\x81\\xd9\\x8a \\xd8\\xa7\\xd8\\xb1\\xd8\\xa8\\xd8\\xb9\\xd8\\xa9 \\xd8\\xaa\\xd9\\x83\\xd9\\x88\\xd9\\x86 \\xd8\\xa8\\xd8\\xa7\\xd9\\x8a\\xd8\\xb9   \\xd9\\x88\\xd9\\x85\\xd8\\xb3\\xd9\\x88\\xd9\\x8a \\xd9\\x88\\xd9\\x82\\xd9\\x81 \\xd8\\xb9\\xd9\\x86\\xd8\\xaf \\xd9\\x82\\xd9\\x85\\xd8\\xaa\\xd9\\x87\\xd8\\xa7 \\xd8\\xaa\\xd9\\x82\\xd8\\xb1\\xd9\\x8a\\xd8\\xa8\\xd8\\xa7 1518\\\\n#XAUUSD https://t.co\\xe2\\x80\\xa6\"},{\"created_at\":\"Mon Oct 07 20:40:52 +0000 2019\",\"text\":\"RT @bilgeefe: #xauusd i\\xc5\\x9flem yapacaks\\xc4\\xb1n #usdjpy nin durumuna bakt\\xc4\\xb1n m\\xc4\\xb1?Ordan da bir \\xc5\\x9fey \\xc3\\xa7\\xc4\\xb1karamad\\xc4\\xb1n jpy etkileyebilir  #spx bakmaya ne dersi\\xe2\\x80\\xa6\"},{\"created_at\":\"Mon Oct 07 20:32:06 +0000 2019\",\"text\":\"RT @TradingHurst: $XAUUSD #gold and price stopped by the 20 day FLD in what looks to be the final 20 day nominal cycle of this current 20 w\\xe2\\x80\\xa6\"},{\"created_at\":\"Mon Oct 07 20:31:34 +0000 2019\",\"text\":\"Order closed at  578.0 pips. Ticket 47808055 Sell XAUUSD\"},{\"created_at\":\"Mon Oct 07 20:30:01 +0000 2019\",\"text\":\"Gold | $XAUUSD | $XAU $USD\\\\n\\\\nGold - Short\\\\n\\\\nLong or short it on WCX: https://t.co/GfNsxOenZ8 https://t.co/2bja2GWyy0\"},{\"created_at\":\"Mon Oct 07 20:26:44 +0000 2019\",\"text\":\"#XAUUSD  #elliottwave \\\\nhttps://t.co/01DX8y53k4\"},{\"created_at\":\"Mon Oct 07 20:25:01 +0000 2019\",\"text\":\"XAUUSD possible resistance around 1495.00\"},{\"created_at\":\"Mon Oct 07 20:24:11 +0000 2019\",\"text\":\"#xauusd #xagusd 3 g\\xc3\\xbcn \\xc3\\xb6nceden Long pozlar\\xc4\\xb1n \\xc3\\xbcst seviyede oldu\\xc4\\x9funu buradan d\\xc3\\xb6n\\xc3\\xbc\\xc5\\x9f alaca\\xc4\\x9f\\xc4\\xb1n\\xc4\\xb1 yazd\\xc4\\xb1k mi yazd\\xc4\\xb1k. E\\xc4\\x9fer 10\\xe2\\x80\\xa6 https://t.co/8wMPWqIsAg\"},{\"created_at\":\"Mon Oct 07 20:23:57 +0000 2019\",\"text\":\"RT @fatihonline_: #xauusd formasyonunu yap\\xc4\\xb1yor\\\\nk\\xc4\\xb1sada d\\xc3\\xbc\\xc5\\x9f\\xc3\\xbc\\xc5\\x9f var sanki ama \\\\nbu hacimle kolay kolay durmaz bence\\\\nbayraklarla ilerliyor \\\\ngecey\\xe2\\x80\\xa6\"},{\"created_at\":\"Mon Oct 07 20:19:13 +0000 2019\",\"text\":\"El trading es un arte que cuando aprendemos a dominarlo empezamos a tener la libertad financiera para el resto de n\\xe2\\x80\\xa6 https://t.co/Tgji48Xzha\"},{\"created_at\":\"Mon Oct 07 20:18:19 +0000 2019\",\"text\":\"RT @emekliborsaci: #halkb bu gecenin en \\xc3\\xa7ok sorulan hissesi galiba 6,03 onay b\\xc3\\xb6lgesidir 6,01 alt\\xc4\\xb1na d\\xc3\\xbc\\xc5\\x9fer ise d\\xc3\\xbc\\xc5\\x9f\\xc3\\xbc\\xc5\\x9f ba\\xc5\\x9flayabilir.\\\\n\\\\n#borsa #\\xe2\\x80\\xa6\"},{\"created_at\":\"Mon Oct 07 20:17:24 +0000 2019\",\"text\":\"RT @bilgeefe: #xauusd i\\xc5\\x9flem yapacaks\\xc4\\xb1n #usdjpy nin durumuna bakt\\xc4\\xb1n m\\xc4\\xb1?Ordan da bir \\xc5\\x9fey \\xc3\\xa7\\xc4\\xb1karamad\\xc4\\xb1n jpy etkileyebilir  #spx bakmaya ne dersi\\xe2\\x80\\xa6\"},{\"created_at\":\"Mon Oct 07 20:15:48 +0000 2019\",\"text\":\"$Gold $XAUUSD an impulsive move down through prior support now resist at 97.50. Overall structure hasn\\'t been inval\\xe2\\x80\\xa6 https://t.co/LwwrXqk8uq\"},{\"created_at\":\"Mon Oct 07 20:15:22 +0000 2019\",\"text\":\"@MichalZalesak @fundibularius @ceskamincovna Prim\\xc3\\xa1rn\\xc3\\xad \\xc3\\xba\\xc4\\x8del = kapit\\xc3\\xa1lov\\xc3\\xa9 zhodnocen\\xc3\\xad ==&gt; investice na burze\\\\nosobn\\xc4\\x9b u\\xe2\\x80\\xa6 https://t.co/Ag2vH7Vvmt\"},{\"created_at\":\"Mon Oct 07 20:10:54 +0000 2019\",\"text\":\"RT @emekliborsaci: #ipeke rsi negatif uyumsuzluk mevcut, k\\xc4\\xb1rm\\xc4\\xb1z\\xc4\\xb1 \\xc3\\xbczerine \\xc3\\xa7\\xc4\\xb1kamaz ise d\\xc3\\xbc\\xc5\\x9f\\xc3\\xbc\\xc5\\x9f devam edecektir.\\\\n\\\\n#borsa #dolar #dolartl #xauusd\\xe2\\x80\\xa6\"},{\"created_at\":\"Mon Oct 07 20:10:15 +0000 2019\",\"text\":\"RT @emekliborsaci: #ipeke rsi negatif uyumsuzluk mevcut, k\\xc4\\xb1rm\\xc4\\xb1z\\xc4\\xb1 \\xc3\\xbczerine \\xc3\\xa7\\xc4\\xb1kamaz ise d\\xc3\\xbc\\xc5\\x9f\\xc3\\xbc\\xc5\\x9f devam edecektir.\\\\n\\\\n#borsa #dolar #dolartl #xauusd\\xe2\\x80\\xa6\"},{\"created_at\":\"Mon Oct 07 20:09:29 +0000 2019\",\"text\":\"[Trade of the Day] \\xf0\\x9f\\x8e\\xaf Our trader took an advantage of a short retracement after $Gold recorded a rapid drop. #FTMO\\xe2\\x80\\xa6 https://t.co/XHu6pjPNMg\"},{\"created_at\":\"Mon Oct 07 20:09:14 +0000 2019\",\"text\":\"#ipeke rsi negatif uyumsuzluk mevcut, k\\xc4\\xb1rm\\xc4\\xb1z\\xc4\\xb1 \\xc3\\xbczerine \\xc3\\xa7\\xc4\\xb1kamaz ise d\\xc3\\xbc\\xc5\\x9f\\xc3\\xbc\\xc5\\x9f devam edecektir.\\\\n\\\\n#borsa #dolar #dolartl\\xe2\\x80\\xa6 https://t.co/sNsM7Mo2QI\"},{\"created_at\":\"Mon Oct 07 19:59:49 +0000 2019\",\"text\":\"#XAUUSD Analysis\\\\n#forexclass #forexmentor #forextrading #forexmoney https://t.co/YQHzDJDF3L\"},{\"created_at\":\"Mon Oct 07 19:56:41 +0000 2019\",\"text\":\"Bought 0.1 Lots Series E XAUUSD 1492.78 TP 1513.02 #Forex #YQR\"},{\"created_at\":\"Mon Oct 07 19:56:40 +0000 2019\",\"text\":\"Bought 0.1 Lots Series E XAUUSD 1495.0 SL 1467.67 TP 1513.99 #Forex #YQR\"},{\"created_at\":\"Mon Oct 07 19:55:26 +0000 2019\",\"text\":\"RT @bilgeefe: #xauusd i\\xc5\\x9flem yapacaks\\xc4\\xb1n #usdjpy nin durumuna bakt\\xc4\\xb1n m\\xc4\\xb1?Ordan da bir \\xc5\\x9fey \\xc3\\xa7\\xc4\\xb1karamad\\xc4\\xb1n jpy etkileyebilir  #spx bakmaya ne dersi\\xe2\\x80\\xa6\"},{\"created_at\":\"Mon Oct 07 19:54:26 +0000 2019\",\"text\":\"RT @EducaTrading: En este webinar evaluaremos el impacto de las variables en el precio de la onza y analizaremos los niveles claves a tener\\xe2\\x80\\xa6\"},{\"created_at\":\"Mon Oct 07 19:49:00 +0000 2019\",\"text\":\"#XAUUSD \\\\nhttps://t.co/WGqIfB2kDR https://t.co/HpLvyBAkMA\"},{\"created_at\":\"Mon Oct 07 19:47:02 +0000 2019\",\"text\":\"RT @fatihonline_: #xauusd formasyonunu yap\\xc4\\xb1yor\\\\nk\\xc4\\xb1sada d\\xc3\\xbc\\xc5\\x9f\\xc3\\xbc\\xc5\\x9f var sanki ama \\\\nbu hacimle kolay kolay durmaz bence\\\\nbayraklarla ilerliyor \\\\ngecey\\xe2\\x80\\xa6\"},{\"created_at\":\"Mon Oct 07 19:45:50 +0000 2019\",\"text\":\"RT @solomitchy: XAUUSD sell funded our London trip haha. \\\\n\\\\nIYKYK https://t.co/hgVEJgiZE8\"},{\"created_at\":\"Mon Oct 07 19:45:24 +0000 2019\",\"text\":\"XAUUSD sell funded our London trip haha. \\\\n\\\\nIYKYK https://t.co/hgVEJgiZE8\"},{\"created_at\":\"Mon Oct 07 19:45:22 +0000 2019\",\"text\":\"xauusd 4 hr chart update\\\\n\\\\n#xauusd #kumo #chartpatterns https://t.co/HPyDeJgWqg\"},{\"created_at\":\"Mon Oct 07 19:39:33 +0000 2019\",\"text\":\"#XAUUSD possible scenario #elliottwave #forex #trading #FXsignals #pips #forexsignals #tradingsignals https://t.co/LlDLOSMc3H\"},{\"created_at\":\"Mon Oct 07 19:38:51 +0000 2019\",\"text\":\"RT @bilgeefe: #xauusd i\\xc5\\x9flem yapacaks\\xc4\\xb1n #usdjpy nin durumuna bakt\\xc4\\xb1n m\\xc4\\xb1?Ordan da bir \\xc5\\x9fey \\xc3\\xa7\\xc4\\xb1karamad\\xc4\\xb1n jpy etkileyebilir  #spx bakmaya ne dersi\\xe2\\x80\\xa6\"},{\"created_at\":\"Mon Oct 07 19:35:57 +0000 2019\",\"text\":\"RT @fatihonline_: #xauusd formasyonunu yap\\xc4\\xb1yor\\\\nk\\xc4\\xb1sada d\\xc3\\xbc\\xc5\\x9f\\xc3\\xbc\\xc5\\x9f var sanki ama \\\\nbu hacimle kolay kolay durmaz bence\\\\nbayraklarla ilerliyor \\\\ngecey\\xe2\\x80\\xa6\"},{\"created_at\":\"Mon Oct 07 19:35:45 +0000 2019\",\"text\":\"RT @bilgeefe: #xauusd i\\xc5\\x9flem yapacaks\\xc4\\xb1n #usdjpy nin durumuna bakt\\xc4\\xb1n m\\xc4\\xb1?Ordan da bir \\xc5\\x9fey \\xc3\\xa7\\xc4\\xb1karamad\\xc4\\xb1n jpy etkileyebilir  #spx bakmaya ne dersi\\xe2\\x80\\xa6\"},{\"created_at\":\"Mon Oct 07 19:35:17 +0000 2019\",\"text\":\"RT @bilgeefe: #xauusd i\\xc5\\x9flem yapacaks\\xc4\\xb1n #usdjpy nin durumuna bakt\\xc4\\xb1n m\\xc4\\xb1?Ordan da bir \\xc5\\x9fey \\xc3\\xa7\\xc4\\xb1karamad\\xc4\\xb1n jpy etkileyebilir  #spx bakmaya ne dersi\\xe2\\x80\\xa6\"},{\"created_at\":\"Mon Oct 07 19:35:14 +0000 2019\",\"text\":\"RT @bilgeefe: #xauusd i\\xc5\\x9flem yapacaks\\xc4\\xb1n #usdjpy nin durumuna bakt\\xc4\\xb1n m\\xc4\\xb1?Ordan da bir \\xc5\\x9fey \\xc3\\xa7\\xc4\\xb1karamad\\xc4\\xb1n jpy etkileyebilir  #spx bakmaya ne dersi\\xe2\\x80\\xa6\"},{\"created_at\":\"Mon Oct 07 19:34:57 +0000 2019\",\"text\":\"@bilgeefe Xauusd ve usdjpy ters korelasyon \\xc3\\xa7al\\xc4\\xb1\\xc5\\x9f\\xc4\\xb1r, ama jpy spx etkisini bilmiyordum. Te\\xc5\\x9fekk\\xc3\\xbcrler\"},{\"created_at\":\"Mon Oct 07 19:33:03 +0000 2019\",\"text\":\"RT @bilgeefe: #xauusd i\\xc5\\x9flem yapacaks\\xc4\\xb1n #usdjpy nin durumuna bakt\\xc4\\xb1n m\\xc4\\xb1?Ordan da bir \\xc5\\x9fey \\xc3\\xa7\\xc4\\xb1karamad\\xc4\\xb1n jpy etkileyebilir  #spx bakmaya ne dersi\\xe2\\x80\\xa6\"},{\"created_at\":\"Mon Oct 07 19:30:36 +0000 2019\",\"text\":\"\\xe0\\xb8\\xaa\\xe0\\xb8\\xb4\\xe0\\xb8\\x87\\xe0\\xb8\\xab\\xe0\\xb8\\xb2\\xe0\\xb8\\x84\\xe0\\xb8\\xa11971\\xe0\\xb8\\x97\\xe0\\xb8\\xad\\xe0\\xb8\\x87\\xe0\\xb8\\x84\\xe0\\xb8\\xb3\\xe0\\xb9\\x80\\xe0\\xb8\\x9e\\xe0\\xb8\\xb4\\xe0\\xb9\\x88\\xe0\\xb8\\xa1\\xe0\\xb8\\x82\\xe0\\xb8\\xb6\\xe0\\xb9\\x89\\xe0\\xb8\\x99\\xe0\\xb8\\x88\\xe0\\xb8\\xb2\\xe0\\xb8\\x81 $35- $850 \\xe0\\xb9\\x83\\xe0\\xb8\\x99\\xe0\\xb9\\x80\\xe0\\xb8\\x94\\xe0\\xb8\\xb7\\xe0\\xb8\\xad\\xe0\\xb8\\x99\\xe0\\xb8\\xa1\\xe0\\xb8\\x81\\xe0\\xb8\\xa3\\xe0\\xb8\\xb2\\xe0\\xb8\\x84\\xe0\\xb8\\xa1\\xe0\\xb8\\x9b\\xe0\\xb8\\xb5 1980 \\xe0\\xb8\\x81\\xe0\\xb8\\xb2\\xe0\\xb8\\xa3\\xe0\\xb9\\x80\\xe0\\xb8\\x9e\\xe0\\xb8\\xb4\\xe0\\xb9\\x88\\xe0\\xb8\\xa1\\xe0\\xb8\\x82\\xe0\\xb8\\xb6\\xe0\\xb9\\x89\\xe0\\xb8\\x99 24X \\xe0\\xb9\\x83\\xe0\\xb8\\x99\\xe0\\xb9\\x80\\xe0\\xb8\\xa7\\xe0\\xb8\\xa5\\xe0\\xb8\\xb2\\xe0\\xb8\\x99\\xe0\\xb9\\x89\\xe0\\xb8\\xad\\xe0\\xb8\\xa2\\xe0\\xb8\\x81\\xe0\\xb8\\xa7\\xe0\\xb9\\x88\\xe0\\xb8\\xb2 9 \\xe0\\xb8\\x9b\\xe0\\xb8\\xb5 \\xe0\\xb9\\x81\\xe0\\xb8\\xa5\\xe0\\xb8\\xb0\\xe0\\xb9\\x83\\xe0\\xb8\\x99\\xe0\\xb8\\x9b\\xe0\\xb8\\xb5 1980-1999\\xe2\\x80\\xa6 https://t.co/ufHIKCbInc\"},{\"created_at\":\"Mon Oct 07 19:28:36 +0000 2019\",\"text\":\"RT @ekonomikocu: XAUUSD G\\xc3\\xbcnl\\xc3\\xbck\\\\n\\\\nArkada\\xc5\\x9flar biraz yogun detaya giremiyorum.\\\\n\\\\nGrafik a\\xc5\\x9fa\\xc4\\x9f\\xc4\\xb1da ons alt\\xc4\\xb1nda, kanallar\\xc4\\xb1 bu hafta biraz geni\\xc5\\x9f alma\\xe2\\x80\\xa6\"},{\"created_at\":\"Mon Oct 07 19:28:33 +0000 2019\",\"text\":\"Finally\\\\n\\\\n#mudspike $xauusd $gold hidden size bid\"},{\"created_at\":\"Mon Oct 07 19:28:06 +0000 2019\",\"text\":\"RT @bilgeefe: #xauusd i\\xc5\\x9flem yapacaks\\xc4\\xb1n #usdjpy nin durumuna bakt\\xc4\\xb1n m\\xc4\\xb1?Ordan da bir \\xc5\\x9fey \\xc3\\xa7\\xc4\\xb1karamad\\xc4\\xb1n jpy etkileyebilir  #spx bakmaya ne dersi\\xe2\\x80\\xa6\"},{\"created_at\":\"Mon Oct 07 19:27:58 +0000 2019\",\"text\":\"RT @bilgeefe: #xauusd i\\xc5\\x9flem yapacaks\\xc4\\xb1n #usdjpy nin durumuna bakt\\xc4\\xb1n m\\xc4\\xb1?Ordan da bir \\xc5\\x9fey \\xc3\\xa7\\xc4\\xb1karamad\\xc4\\xb1n jpy etkileyebilir  #spx bakmaya ne dersi\\xe2\\x80\\xa6\"},{\"created_at\":\"Mon Oct 07 19:27:56 +0000 2019\",\"text\":\"RT @fatihonline_: #xauusd formasyonunu yap\\xc4\\xb1yor\\\\nk\\xc4\\xb1sada d\\xc3\\xbc\\xc5\\x9f\\xc3\\xbc\\xc5\\x9f var sanki ama \\\\nbu hacimle kolay kolay durmaz bence\\\\nbayraklarla ilerliyor \\\\ngecey\\xe2\\x80\\xa6\"},{\"created_at\":\"Mon Oct 07 19:27:51 +0000 2019\",\"text\":\"RT @fatihonline_: #xauusd g\\xc3\\xbcnl\\xc3\\xbck grafik #alt\\xc4\\xb1n #gold #ons\\\\n-ana diren\\xc3\\xa7 b\\xc3\\xb6lgesine bayrak formasyonu ile geldi formasyon devam ediyor\\\\n-abd tdi\\xe2\\x80\\xa6\"},{\"created_at\":\"Mon Oct 07 19:27:28 +0000 2019\",\"text\":\"RT @bilgeefe: #xauusd i\\xc5\\x9flem yapacaks\\xc4\\xb1n #usdjpy nin durumuna bakt\\xc4\\xb1n m\\xc4\\xb1?Ordan da bir \\xc5\\x9fey \\xc3\\xa7\\xc4\\xb1karamad\\xc4\\xb1n jpy etkileyebilir  #spx bakmaya ne dersi\\xe2\\x80\\xa6\"},{\"created_at\":\"Mon Oct 07 19:27:07 +0000 2019\",\"text\":\"RT @bilgeefe: #xauusd i\\xc5\\x9flem yapacaks\\xc4\\xb1n #usdjpy nin durumuna bakt\\xc4\\xb1n m\\xc4\\xb1?Ordan da bir \\xc5\\x9fey \\xc3\\xa7\\xc4\\xb1karamad\\xc4\\xb1n jpy etkileyebilir  #spx bakmaya ne dersi\\xe2\\x80\\xa6\"},{\"created_at\":\"Mon Oct 07 19:26:34 +0000 2019\",\"text\":\"#xauusd i\\xc5\\x9flem yapacaks\\xc4\\xb1n #usdjpy nin durumuna bakt\\xc4\\xb1n m\\xc4\\xb1?Ordan da bir \\xc5\\x9fey \\xc3\\xa7\\xc4\\xb1karamad\\xc4\\xb1n jpy etkileyebilir  #spx bakmay\\xe2\\x80\\xa6 https://t.co/b2Mnu9ObmU\"},{\"created_at\":\"Mon Oct 07 19:26:16 +0000 2019\",\"text\":\"Closed Buy Limit XAUUSD 1487.0 for 0.0 pips, total for today 0.0 pips\"},{\"created_at\":\"Mon Oct 07 19:25:14 +0000 2019\",\"text\":\"\\xe0\\xb8\\xa5\\xe0\\xb8\\xad\\xe0\\xb8\\x87\\xe0\\xb8\\xa7\\xe0\\xb8\\xb4\\xe0\\xb8\\x8a\\xe0\\xb8\\xb2\\xe0\\xb8\\x97\\xe0\\xb8\\xb5\\xe0\\xb9\\x88\\xe0\\xb9\\x84\\xe0\\xb8\\x9b\\xe0\\xb8\\x88\\xe0\\xb8\\xb3\\xe0\\xb9\\x80\\xe0\\xb8\\x82\\xe0\\xb8\\xb2\\xe0\\xb8\\xa1\\xe0\\xb8\\xb2\\xe0\\xb8\\xad\\xe0\\xb8\\xb5\\xe0\\xb8\\x81\\xe0\\xb8\\x97\\xe0\\xb8\\xb5\\\\n#GOLD #xauusd https://t.co/o2FWcwbpmu\"},{\"created_at\":\"Mon Oct 07 19:23:24 +0000 2019\",\"text\":\"#xauusd formasyonunu yap\\xc4\\xb1yor\\\\nk\\xc4\\xb1sada d\\xc3\\xbc\\xc5\\x9f\\xc3\\xbc\\xc5\\x9f var sanki ama \\\\nbu hacimle kolay kolay durmaz bence\\\\nbayraklarla ilerliyor\\xe2\\x80\\xa6 https://t.co/2Rj8qbEwaU\"},{\"created_at\":\"Mon Oct 07 19:21:59 +0000 2019\",\"text\":\"$XAUUSD DLY : m\\xc3\\xaame remarque que $EURUSD avec en plus une cassure baissi\\xc3\\xa8re de la tenkan . Next support @ 1478$ = Ki\\xe2\\x80\\xa6 https://t.co/qm7jHvU75b\"},{\"created_at\":\"Mon Oct 07 19:21:01 +0000 2019\",\"text\":\"Gold | $XAUUSD | $XAU $USD\\\\n\\\\nXAUUSD\\\\n\\\\nLong or short it on WCX: https://t.co/2kfJ8dG4jH https://t.co/IfyKF8sbyS\"},{\"created_at\":\"Mon Oct 07 19:18:52 +0000 2019\",\"text\":\"RT @CHMelih: #XAUUSD SL 1514.00 dan 1510.00 cekmistik. Simdi risksiz 1501.00 cektik. Haber akislarini takip edelim. Gerekirse 1/2 kar alali\\xe2\\x80\\xa6\"},{\"created_at\":\"Mon Oct 07 19:18:01 +0000 2019\",\"text\":\"Gold | $XAUUSD | $XAU $USD\\\\n\\\\nGOLD now it looks like consolidation before the next move do...\\\\n\\\\nLong or short it on WC\\xe2\\x80\\xa6 https://t.co/vAkl2D3ifE\"},{\"created_at\":\"Mon Oct 07 19:11:52 +0000 2019\",\"text\":\"#facts \\\\n\\\\n#distraction101 \\\\n\\\\n$SPX $IWM $QQQ $XAUUSD $DIA https://t.co/b3R0VpucZs\"},{\"created_at\":\"Mon Oct 07 19:10:31 +0000 2019\",\"text\":\"Trump\\'tan T\\xc3\\xbcrkiye\\'ye y\\xc3\\xb6nelik a\\xc3\\xa7\\xc4\\xb1klama https://t.co/P33N3NHzaB\\\\n\\\\n#dolar #DolarTL #usdtry #viop #forex #viopusd #forex\\xe2\\x80\\xa6 https://t.co/NT2bs1VRRg\"},{\"created_at\":\"Mon Oct 07 19:10:14 +0000 2019\",\"text\":\"RT @TakipcisiFinans: #usdtry S\\xc4\\xb1k\\xc4\\xb1\\xc5\\x9fma yukar\\xc4\\xb1 y\\xc3\\xb6nl\\xc3\\xbc \\xc3\\xa7\\xc3\\xb6z\\xc3\\xbclm\\xc3\\xbc\\xc5\\x9f gibi duruyor. Bug\\xc3\\xbcnk\\xc3\\xbc kapan\\xc4\\xb1\\xc5\\x9f \\xc3\\xb6nemli.\\\\n#forex #dolar #eurusd #BIST30 #bist100 #xa\\xe2\\x80\\xa6\"},{\"created_at\":\"Mon Oct 07 19:09:47 +0000 2019\",\"text\":\"RT @hiakkaya: Endeks  tek barda direk yapt\\xc4\\xb1 ilgin\\xc3\\xa7 ..\\\\n\\\\n2 li dip var, sert tepki vermeli.. \\\\n\\\\n#bist100 #viop #usdtry #xauusd #hiakkaya https:\\xe2\\x80\\xa6\"},{\"created_at\":\"Mon Oct 07 19:09:34 +0000 2019\",\"text\":\"Offer stands till friday market close \\\\n\\\\nGolden Circle ~ lifetime membership \\xe2\\x82\\xac59,- \\\\n\\\\nTelegram: @GoldpipzDM\\\\n\\\\n#xauusd\"},{\"created_at\":\"Mon Oct 07 19:09:16 +0000 2019\",\"text\":\"#halkb bu gecenin en \\xc3\\xa7ok sorulan hissesi galiba 6,03 onay b\\xc3\\xb6lgesidir 6,01 alt\\xc4\\xb1na d\\xc3\\xbc\\xc5\\x9fer ise d\\xc3\\xbc\\xc5\\x9f\\xc3\\xbc\\xc5\\x9f ba\\xc5\\x9flayabilir.\\xe2\\x80\\xa6 https://t.co/rj6MVlN8Yv\"},{\"created_at\":\"Mon Oct 07 19:05:41 +0000 2019\",\"text\":\"RT @_mynamefiddla: @Daddy_Drisco I know you seen my markup for XAUUSD and then the subsequent 100 pip drop\"},{\"created_at\":\"Mon Oct 07 19:04:44 +0000 2019\",\"text\":\"Sur l\\'or, en toute objectivit\\xc3\\xa9 je vois \\xc3\\xa7a... en fait, j\\'esp\\xc3\\xa8re que j\\'ai tort \\xf0\\x9f\\x98\\x85 $XAUUSD https://t.co/29gGMC17jo\"},{\"created_at\":\"Mon Oct 07 19:04:24 +0000 2019\",\"text\":\"@Daddy_Drisco I know you seen my markup for XAUUSD and then the subsequent 100 pip drop\"},{\"created_at\":\"Mon Oct 07 19:04:02 +0000 2019\",\"text\":\"Sold #XAUUSD 1491.32 For Free #signals #tips WhatsApp on +919216200292 #AutoTrading\"},{\"created_at\":\"Mon Oct 07 19:04:02 +0000 2019\",\"text\":\"Sold #XAUUSD 1491.09 For Free #signals #tips WhatsApp on +919216200292 #AutoTrading\"},{\"created_at\":\"Mon Oct 07 19:04:01 +0000 2019\",\"text\":\"Bought #XAUUSD 1491.13 For Free #signals #tips WhatsApp on +919216200292 #AutoTrading\"}]'\n"
          ],
          "name": "stdout"
        }
      ]
    },
    {
      "cell_type": "code",
      "metadata": {
        "id": "JQYXf4LoUITI",
        "colab_type": "code",
        "outputId": "d7f9f3bd-2ef8-4ece-c2b9-fc853acd6281",
        "colab": {
          "base_uri": "https://localhost:8080/",
          "height": 55
        }
      },
      "source": [
        "urllib.request.urlopen(url).read()"
      ],
      "execution_count": 0,
      "outputs": [
        {
          "output_type": "execute_result",
          "data": {
            "text/plain": [
              "b'[{\"created_at\":\"Mon Oct 07 22:21:14 +0000 2019\",\"text\":\"According to MarketMilk\\xe2\\x84\\xa2, the short-term trend of XAU/USD is bearish. Is its long-term trend different? Check out X\\xe2\\x80\\xa6 https://t.co/SLJEVmyeya\"},{\"created_at\":\"Mon Oct 07 22:10:02 +0000 2019\",\"text\":\"#XAUUSD - XAUUSD - TradingView - https://t.co/162p7AILm8\"},{\"created_at\":\"Mon Oct 07 22:05:45 +0000 2019\",\"text\":\"#XU100 \\\\n#usdtry\\\\n#Brent\\\\n#XAUUSD  TOBO \\xc4\\xb0LE 1504 $ons pivot d\\xc3\\xbczeltme seviye ye GEL\\xc4\\xb0NCE co\\xc5\\x9fku yu TAK\\xc4\\xb0P edelim g\\xc3\\xbcncel F\\xc4\\xb0\\xe2\\x80\\xa6 https://t.co/RJMm1BupkJ\"},{\"created_at\":\"Mon Oct 07 22:05:15 +0000 2019\",\"text\":\"Technicals done.\\\\n\\\\nFollow the arrows this week. I will teach you to track volume by reading order flow.\\\\n\\\\nGold outloo\\xe2\\x80\\xa6 https://t.co/EOL3ZihzN2\"},{\"created_at\":\"Mon Oct 07 22:03:01 +0000 2019\",\"text\":\"Gold | $XAUUSD | $XAU $USD\\\\n\\\\nxau Sell OrDeR\\\\n\\\\nLong or short it on WCX: https://t.co/2kfJ8dots9 https://t.co/ukL9UIEVC5\"},{\"created_at\":\"Mon Oct 07 21:58:56 +0000 2019\",\"text\":\"RT @bilgeefe: #xauusd i\\xc5\\x9flem yapacaks\\xc4\\xb1n #usdjpy nin durumuna bakt\\xc4\\xb1n m\\xc4\\xb1?Ordan da bir \\xc5\\x9fey \\xc3\\xa7\\xc4\\xb1karamad\\xc4\\xb1n jpy etkileyebilir  #spx bakmaya ne dersi\\xe2\\x80\\xa6\"},{\"created_at\":\"Mon Oct 07 21:47:55 +0000 2019\",\"text\":\"#DolarTL Teknik G\\xc3\\xb6r\\xc3\\xbcn\\xc3\\xbcm ;\\\\nDolarda 5.8550 k\\xc4\\xb1r\\xc4\\xb1l\\xc4\\xb1m\\xc4\\xb1na \\xc3\\xa7ok dikkat arkada\\xc5\\x9flar. \\xc3\\x9czerinde tutunursa s\\xc4\\xb1rayla 6.00-6.10 ka\\xc3\\xa7\\xe2\\x80\\xa6 https://t.co/8GJRfuKba1\"},{\"created_at\":\"Mon Oct 07 21:40:32 +0000 2019\",\"text\":\"XAUUSD 1488 usd can turn.... - #XAUUSD chart https://t.co/hQrRfRtAzX\"},{\"created_at\":\"Mon Oct 07 21:39:20 +0000 2019\",\"text\":\"#FOREX TRADE PLAN AND REVIEW FOR 08/10/19 \\\\n#XAUUSD, #EURUSD, #USDCHF, #GBPUSD,#EURGBP, #GBPCHF, #AUDUSD, #USDJPY,\\xe2\\x80\\xa6 https://t.co/gIAI3C7I1p\"},{\"created_at\":\"Mon Oct 07 21:36:01 +0000 2019\",\"text\":\"Gold | $XAUUSD | $XAU $USD\\\\n\\\\nXAUUUSD GOLD 4H SHORT\\\\n\\\\nLong or short it on WCX: https://t.co/2kfJ8dots9 https://t.co/utA0Dzrk98\"},{\"created_at\":\"Mon Oct 07 21:30:01 +0000 2019\",\"text\":\"Gold | $XAUUSD | $XAU $USD\\\\n\\\\nGOLD H1 Sell Setup\\\\n\\\\nLong or short it on WCX: https://t.co/L3oGkoJgoU https://t.co/g2K78lXkuE\"},{\"created_at\":\"Mon Oct 07 21:29:30 +0000 2019\",\"text\":\"RT @es_tradingview: #XAUUSD - ENTRADA CON FIBO - TradingView - https://t.co/0YZptbddlS\"},{\"created_at\":\"Mon Oct 07 21:27:05 +0000 2019\",\"text\":\"Dislaimer just a general view just sharing my thoughts https://t.co/SnsVItkMSn \\xf0\\x9f\\x99\\x8bCrypto Cashflow \\xf0\\x9f\\x94\\xa5 via\\xe2\\x9f\\xb6\\xe2\\x80\\xa6 https://t.co/4Z9BNJeF18\"},{\"created_at\":\"Mon Oct 07 21:24:13 +0000 2019\",\"text\":\"$GOLD continues to consolidate in a tightening range, which has been positive for the bulls. There is plenty of sup\\xe2\\x80\\xa6 https://t.co/hc8xD55b9q\"},{\"created_at\":\"Mon Oct 07 21:23:03 +0000 2019\",\"text\":\"#DolarTL Teknik G\\xc3\\xb6r\\xc3\\xbcn\\xc3\\xbcm ;\\\\nDolarda 5.8550 k\\xc4\\xb1r\\xc4\\xb1l\\xc4\\xb1m\\xc4\\xb1na \\xc3\\xa7ok dikkat arkada\\xc5\\x9flar. \\xc3\\x9czerinde tutunursa s\\xc4\\xb1rayla 6.00-6.10 ka\\xc3\\xa7\\xe2\\x80\\xa6 https://t.co/BTh4dfrT5C\"},{\"created_at\":\"Mon Oct 07 21:20:00 +0000 2019\",\"text\":\"#XAUUSD - ENTRADA CON FIBO - TradingView - https://t.co/0YZptbddlS\"},{\"created_at\":\"Mon Oct 07 21:16:23 +0000 2019\",\"text\":\"https://t.co/aJ38aVksbJ \\\\n\\\\nTrade now from London free signals for one year \\\\nContact now on 07378865994\\\\nMake money wh\\xe2\\x80\\xa6 https://t.co/xpA8MUcZ9c\"},{\"created_at\":\"Mon Oct 07 21:12:58 +0000 2019\",\"text\":\"RT @emekliborsaci: #ENDEKS 102,777 ilk deste\\xc4\\x9fimiz alt\\xc4\\xb1na d\\xc3\\xbc\\xc5\\x9fer ise 101,888 ana destek seviyemdir alt\\xc4\\xb1na d\\xc3\\xbc\\xc5\\x9fer ise komple stop olurum.\\\\n\\\\n#bor\\xe2\\x80\\xa6\"},{\"created_at\":\"Mon Oct 07 21:10:11 +0000 2019\",\"text\":\"RT @cerentuzca: B\\xc4\\xb0RTAKIM \\xc4\\xb0STAT\\xc4\\xb0ST\\xc4\\xb0KLER\\xf0\\x9f\\x94\\xa5\\xf0\\x9f\\x93\\xa3\\\\n\\\\n12 \\xc4\\xb0\\xc5\\x9flem g\\xc3\\xbcn\\xc3\\xbc sonunda portf\\xc3\\xb6y k\\xc3\\xa2r ile %28.1 b\\xc3\\xbcy\\xc3\\xbcd\\xc3\\xbc\\\\n\\\\n#forex #bist100 #viop #varant #brent #xauusd\\xe2\\x80\\xa6\"},{\"created_at\":\"Mon Oct 07 21:08:57 +0000 2019\",\"text\":\"RT @TurkElit: ALTIN YATIRIMCISI D\\xc4\\xb0KKAT! GRAM ALTIN ve ONS ALTIN NE OLACAK?? \\\\n#xauusd #gold #gautry #alt\\xc4\\xb1n #Trump \\\\nhttps://t.co/D0kZ0H1Bl1 @\\xe2\\x80\\xa6\"},{\"created_at\":\"Mon Oct 07 21:04:52 +0000 2019\",\"text\":\"Dolar Destek Diren\\xc3\\xa7 8 Ekim 2019 https://t.co/c0pykbqhCl\\\\n\\\\n#DolarTL #eurtry #hisseanaliz #forex #usdtry #gbpusd\\xe2\\x80\\xa6 https://t.co/OFhpvJWfGm\"},{\"created_at\":\"Mon Oct 07 21:02:45 +0000 2019\",\"text\":\"RT @MyforexMy: Eyl\\xc3\\xbcl ay\\xc4\\xb1 grup i\\xc5\\x9flemlerimiz \\xf0\\x9f\\x98\\x8c\\xf0\\x9f\\xa4\\x93 Ba\\xc5\\x9far\\xc4\\xb1 oran\\xc4\\xb1m\\xc4\\xb1z %61 \\\\n@fxcanli \\\\n#dax30  \\\\n #bist100 #forextrading #forex #forexsignals #XAUUSD\\xe2\\x80\\xa6\"},{\"created_at\":\"Mon Oct 07 21:01:43 +0000 2019\",\"text\":\"RT @bilgeefe: #xauusd i\\xc5\\x9flem yapacaks\\xc4\\xb1n #usdjpy nin durumuna bakt\\xc4\\xb1n m\\xc4\\xb1?Ordan da bir \\xc5\\x9fey \\xc3\\xa7\\xc4\\xb1karamad\\xc4\\xb1n jpy etkileyebilir  #spx bakmaya ne dersi\\xe2\\x80\\xa6\"},{\"created_at\":\"Mon Oct 07 21:01:24 +0000 2019\",\"text\":\"Evet arkada\\xc5\\x9flar son olaylar \\xc3\\xbczerine sorular\\xc4\\xb1n\\xc4\\xb1z\\xc4\\xb1 alabiliriz.(Analiz ama\\xc3\\xa7l\\xc4\\xb1)\\\\n#TuerkMilletiOrdusununYan\\xc4\\xb1nda #Trump\\xe2\\x80\\xa6 https://t.co/xqELdUJhP9\"},{\"created_at\":\"Mon Oct 07 20:58:13 +0000 2019\",\"text\":\"RT @emekliborsaci: #ipeke rsi negatif uyumsuzluk mevcut, k\\xc4\\xb1rm\\xc4\\xb1z\\xc4\\xb1 \\xc3\\xbczerine \\xc3\\xa7\\xc4\\xb1kamaz ise d\\xc3\\xbc\\xc5\\x9f\\xc3\\xbc\\xc5\\x9f devam edecektir.\\\\n\\\\n#borsa #dolar #dolartl #xauusd\\xe2\\x80\\xa6\"},{\"created_at\":\"Mon Oct 07 20:57:26 +0000 2019\",\"text\":\"El trabajo ligado al trading, da un estilo de vida que siempre so\\xc3\\xb1amos.\\\\n\\\\nCONT\\xc3\\x81CTAME para orientarte en el aprendiza\\xe2\\x80\\xa6 https://t.co/4dxIaBlJMW\"},{\"created_at\":\"Mon Oct 07 20:56:55 +0000 2019\",\"text\":\"RT @emekliborsaci: #halkb bu gecenin en \\xc3\\xa7ok sorulan hissesi galiba 6,03 onay b\\xc3\\xb6lgesidir 6,01 alt\\xc4\\xb1na d\\xc3\\xbc\\xc5\\x9fer ise d\\xc3\\xbc\\xc5\\x9f\\xc3\\xbc\\xc5\\x9f ba\\xc5\\x9flayabilir.\\\\n\\\\n#borsa #\\xe2\\x80\\xa6\"},{\"created_at\":\"Mon Oct 07 20:56:47 +0000 2019\",\"text\":\"New photo posted in &gt; https://t.co/JGw4RdyEBj $EURUSD $GBPUSD $USDJPY $AAPL $GOOGL $XAUUSD $Forex $BTCUSD $Forex\\xe2\\x80\\xa6 https://t.co/zkgnMzIMJ5\"},{\"created_at\":\"Mon Oct 07 20:56:06 +0000 2019\",\"text\":\"#XAUUSD, Trump \\xc4\\xb1n da ya\\xc5\\x9fad\\xc4\\xb1\\xc4\\x9f\\xc4\\xb1 bu d\\xc3\\xbcnyada teknik analiz yapmak.. Teknik, \\xc3\\x87\\xc4\\xb0N-ABD aras\\xc4\\xb1ndaki g\\xc3\\xb6r\\xc3\\xbc\\xc5\\x9fmelerden pozitif bi\\xe2\\x80\\xa6 https://t.co/F8fVMcumDr\"},{\"created_at\":\"Mon Oct 07 20:52:59 +0000 2019\",\"text\":\"XAUUSD, 15\\\\n\\xe9\\x87\\x91\\xef\\xbc\\x8f\\xe7\\xb1\\xb3\\xe3\\x83\\x89\\xe3\\x83\\xab https://t.co/d5QR3Chrk2\"},{\"created_at\":\"Mon Oct 07 20:50:12 +0000 2019\",\"text\":\"RT @bilgeefe: #xauusd i\\xc5\\x9flem yapacaks\\xc4\\xb1n #usdjpy nin durumuna bakt\\xc4\\xb1n m\\xc4\\xb1?Ordan da bir \\xc5\\x9fey \\xc3\\xa7\\xc4\\xb1karamad\\xc4\\xb1n jpy etkileyebilir  #spx bakmaya ne dersi\\xe2\\x80\\xa6\"},{\"created_at\":\"Mon Oct 07 20:48:16 +0000 2019\",\"text\":\"#xu100\\\\n#usdtry\\\\n#Brent\\\\n#XAUUSD\\\\nTehdit ediyor ve B\\xc4\\xb0R \\xc3\\xb6nceki eko dalgalanmay\\xc4\\xb1 itiraf ED\\xc4\\xb0YOR prezident sar\\xc4\\xb1 bukle \\\\nhttps://t.co/p5XfyvdyAY\"},{\"created_at\":\"Mon Oct 07 20:47:09 +0000 2019\",\"text\":\"#Gold $XAUUSD drops to five-day lows near $1,490 as markets start pricing a US-China trade deal.\"},{\"created_at\":\"Mon Oct 07 20:46:39 +0000 2019\",\"text\":\"Order opened: Ticket 47814719 Sell  XAUUSD @ 1492.67\"},{\"created_at\":\"Mon Oct 07 20:46:28 +0000 2019\",\"text\":\"The $XAUUSD pair fluctuated in a relatively tight range near the $1,500 mark throughout the day before coming under\\xe2\\x80\\xa6 https://t.co/gG8YfK9XEL\"},{\"created_at\":\"Mon Oct 07 20:45:50 +0000 2019\",\"text\":\"RT @proffibonacci: Ons Alt\\xc4\\xb1n\\xe2\\x80\\x99da g\\xc3\\xbcnl\\xc3\\xbck pivot seviye $1497,17. Bu seviyenin \\xc3\\xbczerinde g\\xc3\\xbcnl\\xc3\\xbck kapan\\xc4\\xb1\\xc5\\x9flar al\\xc4\\xb1c\\xc4\\xb1lar\\xc4\\xb1 \\xc3\\xa7ekecektir. Bu seviye \\xc3\\xbczeri\\xe2\\x80\\xa6\"},{\"created_at\":\"Mon Oct 07 20:45:32 +0000 2019\",\"text\":\"RT @fnfefn: #\\xd8\\xa7\\xd9\\x84\\xd8\\xb0\\xd9\\x87\\xd8\\xa8 \\xd9\\x85\\xd8\\xa7\\xd8\\xb4\\xd9\\x8a \\xd8\\xad\\xd8\\xb3\\xd8\\xa8 \\xd8\\xa7\\xd9\\x84\\xd8\\xb3\\xd9\\x8a\\xd9\\x86\\xd8\\xa7\\xd8\\xb1\\xd9\\x8a\\xd9\\x88 \\xf0\\x9f\\x91\\x8c   \\xd9\\x8a\\xd9\\x81\\xd8\\xaa\\xd8\\xb1\\xd8\\xb6 \\xd9\\x85\\xd9\\x86 \\xd9\\x8a\\xd9\\x88\\xd9\\x85 \\xd9\\x82\\xd9\\x84\\xd9\\x86\\xd8\\xa7  \\xd9\\x84\\xd9\\x83 \\xd9\\x88\\xd9\\x84\\xd9\\x81\\xd9\\x8a \\xd8\\xa7\\xd8\\xb1\\xd8\\xa8\\xd8\\xb9\\xd8\\xa9 \\xd8\\xaa\\xd9\\x83\\xd9\\x88\\xd9\\x86 \\xd8\\xa8\\xd8\\xa7\\xd9\\x8a\\xd8\\xb9   \\xd9\\x88\\xd9\\x85\\xd8\\xb3\\xd9\\x88\\xd9\\x8a \\xd9\\x88\\xd9\\x82\\xd9\\x81 \\xd8\\xb9\\xd9\\x86\\xd8\\xaf \\xd9\\x82\\xd9\\x85\\xd8\\xaa\\xd9\\x87\\xd8\\xa7 \\xd8\\xaa\\xd9\\x82\\xd8\\xb1\\xd9\\x8a\\xd8\\xa8\\xd8\\xa7 1518\\\\n#XAUUSD https://t.co\\xe2\\x80\\xa6\"},{\"created_at\":\"Mon Oct 07 20:40:52 +0000 2019\",\"text\":\"RT @bilgeefe: #xauusd i\\xc5\\x9flem yapacaks\\xc4\\xb1n #usdjpy nin durumuna bakt\\xc4\\xb1n m\\xc4\\xb1?Ordan da bir \\xc5\\x9fey \\xc3\\xa7\\xc4\\xb1karamad\\xc4\\xb1n jpy etkileyebilir  #spx bakmaya ne dersi\\xe2\\x80\\xa6\"},{\"created_at\":\"Mon Oct 07 20:32:06 +0000 2019\",\"text\":\"RT @TradingHurst: $XAUUSD #gold and price stopped by the 20 day FLD in what looks to be the final 20 day nominal cycle of this current 20 w\\xe2\\x80\\xa6\"},{\"created_at\":\"Mon Oct 07 20:31:34 +0000 2019\",\"text\":\"Order closed at  578.0 pips. Ticket 47808055 Sell XAUUSD\"},{\"created_at\":\"Mon Oct 07 20:30:01 +0000 2019\",\"text\":\"Gold | $XAUUSD | $XAU $USD\\\\n\\\\nGold - Short\\\\n\\\\nLong or short it on WCX: https://t.co/GfNsxOenZ8 https://t.co/2bja2GWyy0\"},{\"created_at\":\"Mon Oct 07 20:26:44 +0000 2019\",\"text\":\"#XAUUSD  #elliottwave \\\\nhttps://t.co/01DX8y53k4\"},{\"created_at\":\"Mon Oct 07 20:25:01 +0000 2019\",\"text\":\"XAUUSD possible resistance around 1495.00\"},{\"created_at\":\"Mon Oct 07 20:24:11 +0000 2019\",\"text\":\"#xauusd #xagusd 3 g\\xc3\\xbcn \\xc3\\xb6nceden Long pozlar\\xc4\\xb1n \\xc3\\xbcst seviyede oldu\\xc4\\x9funu buradan d\\xc3\\xb6n\\xc3\\xbc\\xc5\\x9f alaca\\xc4\\x9f\\xc4\\xb1n\\xc4\\xb1 yazd\\xc4\\xb1k mi yazd\\xc4\\xb1k. E\\xc4\\x9fer 10\\xe2\\x80\\xa6 https://t.co/8wMPWqIsAg\"},{\"created_at\":\"Mon Oct 07 20:23:57 +0000 2019\",\"text\":\"RT @fatihonline_: #xauusd formasyonunu yap\\xc4\\xb1yor\\\\nk\\xc4\\xb1sada d\\xc3\\xbc\\xc5\\x9f\\xc3\\xbc\\xc5\\x9f var sanki ama \\\\nbu hacimle kolay kolay durmaz bence\\\\nbayraklarla ilerliyor \\\\ngecey\\xe2\\x80\\xa6\"},{\"created_at\":\"Mon Oct 07 20:19:13 +0000 2019\",\"text\":\"El trading es un arte que cuando aprendemos a dominarlo empezamos a tener la libertad financiera para el resto de n\\xe2\\x80\\xa6 https://t.co/Tgji48Xzha\"},{\"created_at\":\"Mon Oct 07 20:18:19 +0000 2019\",\"text\":\"RT @emekliborsaci: #halkb bu gecenin en \\xc3\\xa7ok sorulan hissesi galiba 6,03 onay b\\xc3\\xb6lgesidir 6,01 alt\\xc4\\xb1na d\\xc3\\xbc\\xc5\\x9fer ise d\\xc3\\xbc\\xc5\\x9f\\xc3\\xbc\\xc5\\x9f ba\\xc5\\x9flayabilir.\\\\n\\\\n#borsa #\\xe2\\x80\\xa6\"},{\"created_at\":\"Mon Oct 07 20:17:24 +0000 2019\",\"text\":\"RT @bilgeefe: #xauusd i\\xc5\\x9flem yapacaks\\xc4\\xb1n #usdjpy nin durumuna bakt\\xc4\\xb1n m\\xc4\\xb1?Ordan da bir \\xc5\\x9fey \\xc3\\xa7\\xc4\\xb1karamad\\xc4\\xb1n jpy etkileyebilir  #spx bakmaya ne dersi\\xe2\\x80\\xa6\"},{\"created_at\":\"Mon Oct 07 20:15:48 +0000 2019\",\"text\":\"$Gold $XAUUSD an impulsive move down through prior support now resist at 97.50. Overall structure hasn\\'t been inval\\xe2\\x80\\xa6 https://t.co/LwwrXqk8uq\"},{\"created_at\":\"Mon Oct 07 20:15:22 +0000 2019\",\"text\":\"@MichalZalesak @fundibularius @ceskamincovna Prim\\xc3\\xa1rn\\xc3\\xad \\xc3\\xba\\xc4\\x8del = kapit\\xc3\\xa1lov\\xc3\\xa9 zhodnocen\\xc3\\xad ==&gt; investice na burze\\\\nosobn\\xc4\\x9b u\\xe2\\x80\\xa6 https://t.co/Ag2vH7Vvmt\"},{\"created_at\":\"Mon Oct 07 20:10:54 +0000 2019\",\"text\":\"RT @emekliborsaci: #ipeke rsi negatif uyumsuzluk mevcut, k\\xc4\\xb1rm\\xc4\\xb1z\\xc4\\xb1 \\xc3\\xbczerine \\xc3\\xa7\\xc4\\xb1kamaz ise d\\xc3\\xbc\\xc5\\x9f\\xc3\\xbc\\xc5\\x9f devam edecektir.\\\\n\\\\n#borsa #dolar #dolartl #xauusd\\xe2\\x80\\xa6\"},{\"created_at\":\"Mon Oct 07 20:10:15 +0000 2019\",\"text\":\"RT @emekliborsaci: #ipeke rsi negatif uyumsuzluk mevcut, k\\xc4\\xb1rm\\xc4\\xb1z\\xc4\\xb1 \\xc3\\xbczerine \\xc3\\xa7\\xc4\\xb1kamaz ise d\\xc3\\xbc\\xc5\\x9f\\xc3\\xbc\\xc5\\x9f devam edecektir.\\\\n\\\\n#borsa #dolar #dolartl #xauusd\\xe2\\x80\\xa6\"},{\"created_at\":\"Mon Oct 07 20:09:29 +0000 2019\",\"text\":\"[Trade of the Day] \\xf0\\x9f\\x8e\\xaf Our trader took an advantage of a short retracement after $Gold recorded a rapid drop. #FTMO\\xe2\\x80\\xa6 https://t.co/XHu6pjPNMg\"},{\"created_at\":\"Mon Oct 07 20:09:14 +0000 2019\",\"text\":\"#ipeke rsi negatif uyumsuzluk mevcut, k\\xc4\\xb1rm\\xc4\\xb1z\\xc4\\xb1 \\xc3\\xbczerine \\xc3\\xa7\\xc4\\xb1kamaz ise d\\xc3\\xbc\\xc5\\x9f\\xc3\\xbc\\xc5\\x9f devam edecektir.\\\\n\\\\n#borsa #dolar #dolartl\\xe2\\x80\\xa6 https://t.co/sNsM7Mo2QI\"},{\"created_at\":\"Mon Oct 07 19:59:49 +0000 2019\",\"text\":\"#XAUUSD Analysis\\\\n#forexclass #forexmentor #forextrading #forexmoney https://t.co/YQHzDJDF3L\"},{\"created_at\":\"Mon Oct 07 19:56:41 +0000 2019\",\"text\":\"Bought 0.1 Lots Series E XAUUSD 1492.78 TP 1513.02 #Forex #YQR\"},{\"created_at\":\"Mon Oct 07 19:56:40 +0000 2019\",\"text\":\"Bought 0.1 Lots Series E XAUUSD 1495.0 SL 1467.67 TP 1513.99 #Forex #YQR\"},{\"created_at\":\"Mon Oct 07 19:55:26 +0000 2019\",\"text\":\"RT @bilgeefe: #xauusd i\\xc5\\x9flem yapacaks\\xc4\\xb1n #usdjpy nin durumuna bakt\\xc4\\xb1n m\\xc4\\xb1?Ordan da bir \\xc5\\x9fey \\xc3\\xa7\\xc4\\xb1karamad\\xc4\\xb1n jpy etkileyebilir  #spx bakmaya ne dersi\\xe2\\x80\\xa6\"},{\"created_at\":\"Mon Oct 07 19:54:26 +0000 2019\",\"text\":\"RT @EducaTrading: En este webinar evaluaremos el impacto de las variables en el precio de la onza y analizaremos los niveles claves a tener\\xe2\\x80\\xa6\"},{\"created_at\":\"Mon Oct 07 19:49:00 +0000 2019\",\"text\":\"#XAUUSD \\\\nhttps://t.co/WGqIfB2kDR https://t.co/HpLvyBAkMA\"},{\"created_at\":\"Mon Oct 07 19:47:02 +0000 2019\",\"text\":\"RT @fatihonline_: #xauusd formasyonunu yap\\xc4\\xb1yor\\\\nk\\xc4\\xb1sada d\\xc3\\xbc\\xc5\\x9f\\xc3\\xbc\\xc5\\x9f var sanki ama \\\\nbu hacimle kolay kolay durmaz bence\\\\nbayraklarla ilerliyor \\\\ngecey\\xe2\\x80\\xa6\"},{\"created_at\":\"Mon Oct 07 19:45:50 +0000 2019\",\"text\":\"RT @solomitchy: XAUUSD sell funded our London trip haha. \\\\n\\\\nIYKYK https://t.co/hgVEJgiZE8\"},{\"created_at\":\"Mon Oct 07 19:45:24 +0000 2019\",\"text\":\"XAUUSD sell funded our London trip haha. \\\\n\\\\nIYKYK https://t.co/hgVEJgiZE8\"},{\"created_at\":\"Mon Oct 07 19:45:22 +0000 2019\",\"text\":\"xauusd 4 hr chart update\\\\n\\\\n#xauusd #kumo #chartpatterns https://t.co/HPyDeJgWqg\"},{\"created_at\":\"Mon Oct 07 19:39:33 +0000 2019\",\"text\":\"#XAUUSD possible scenario #elliottwave #forex #trading #FXsignals #pips #forexsignals #tradingsignals https://t.co/LlDLOSMc3H\"},{\"created_at\":\"Mon Oct 07 19:38:51 +0000 2019\",\"text\":\"RT @bilgeefe: #xauusd i\\xc5\\x9flem yapacaks\\xc4\\xb1n #usdjpy nin durumuna bakt\\xc4\\xb1n m\\xc4\\xb1?Ordan da bir \\xc5\\x9fey \\xc3\\xa7\\xc4\\xb1karamad\\xc4\\xb1n jpy etkileyebilir  #spx bakmaya ne dersi\\xe2\\x80\\xa6\"},{\"created_at\":\"Mon Oct 07 19:35:57 +0000 2019\",\"text\":\"RT @fatihonline_: #xauusd formasyonunu yap\\xc4\\xb1yor\\\\nk\\xc4\\xb1sada d\\xc3\\xbc\\xc5\\x9f\\xc3\\xbc\\xc5\\x9f var sanki ama \\\\nbu hacimle kolay kolay durmaz bence\\\\nbayraklarla ilerliyor \\\\ngecey\\xe2\\x80\\xa6\"},{\"created_at\":\"Mon Oct 07 19:35:45 +0000 2019\",\"text\":\"RT @bilgeefe: #xauusd i\\xc5\\x9flem yapacaks\\xc4\\xb1n #usdjpy nin durumuna bakt\\xc4\\xb1n m\\xc4\\xb1?Ordan da bir \\xc5\\x9fey \\xc3\\xa7\\xc4\\xb1karamad\\xc4\\xb1n jpy etkileyebilir  #spx bakmaya ne dersi\\xe2\\x80\\xa6\"},{\"created_at\":\"Mon Oct 07 19:35:17 +0000 2019\",\"text\":\"RT @bilgeefe: #xauusd i\\xc5\\x9flem yapacaks\\xc4\\xb1n #usdjpy nin durumuna bakt\\xc4\\xb1n m\\xc4\\xb1?Ordan da bir \\xc5\\x9fey \\xc3\\xa7\\xc4\\xb1karamad\\xc4\\xb1n jpy etkileyebilir  #spx bakmaya ne dersi\\xe2\\x80\\xa6\"},{\"created_at\":\"Mon Oct 07 19:35:14 +0000 2019\",\"text\":\"RT @bilgeefe: #xauusd i\\xc5\\x9flem yapacaks\\xc4\\xb1n #usdjpy nin durumuna bakt\\xc4\\xb1n m\\xc4\\xb1?Ordan da bir \\xc5\\x9fey \\xc3\\xa7\\xc4\\xb1karamad\\xc4\\xb1n jpy etkileyebilir  #spx bakmaya ne dersi\\xe2\\x80\\xa6\"},{\"created_at\":\"Mon Oct 07 19:34:57 +0000 2019\",\"text\":\"@bilgeefe Xauusd ve usdjpy ters korelasyon \\xc3\\xa7al\\xc4\\xb1\\xc5\\x9f\\xc4\\xb1r, ama jpy spx etkisini bilmiyordum. Te\\xc5\\x9fekk\\xc3\\xbcrler\"},{\"created_at\":\"Mon Oct 07 19:33:03 +0000 2019\",\"text\":\"RT @bilgeefe: #xauusd i\\xc5\\x9flem yapacaks\\xc4\\xb1n #usdjpy nin durumuna bakt\\xc4\\xb1n m\\xc4\\xb1?Ordan da bir \\xc5\\x9fey \\xc3\\xa7\\xc4\\xb1karamad\\xc4\\xb1n jpy etkileyebilir  #spx bakmaya ne dersi\\xe2\\x80\\xa6\"},{\"created_at\":\"Mon Oct 07 19:30:36 +0000 2019\",\"text\":\"\\xe0\\xb8\\xaa\\xe0\\xb8\\xb4\\xe0\\xb8\\x87\\xe0\\xb8\\xab\\xe0\\xb8\\xb2\\xe0\\xb8\\x84\\xe0\\xb8\\xa11971\\xe0\\xb8\\x97\\xe0\\xb8\\xad\\xe0\\xb8\\x87\\xe0\\xb8\\x84\\xe0\\xb8\\xb3\\xe0\\xb9\\x80\\xe0\\xb8\\x9e\\xe0\\xb8\\xb4\\xe0\\xb9\\x88\\xe0\\xb8\\xa1\\xe0\\xb8\\x82\\xe0\\xb8\\xb6\\xe0\\xb9\\x89\\xe0\\xb8\\x99\\xe0\\xb8\\x88\\xe0\\xb8\\xb2\\xe0\\xb8\\x81 $35- $850 \\xe0\\xb9\\x83\\xe0\\xb8\\x99\\xe0\\xb9\\x80\\xe0\\xb8\\x94\\xe0\\xb8\\xb7\\xe0\\xb8\\xad\\xe0\\xb8\\x99\\xe0\\xb8\\xa1\\xe0\\xb8\\x81\\xe0\\xb8\\xa3\\xe0\\xb8\\xb2\\xe0\\xb8\\x84\\xe0\\xb8\\xa1\\xe0\\xb8\\x9b\\xe0\\xb8\\xb5 1980 \\xe0\\xb8\\x81\\xe0\\xb8\\xb2\\xe0\\xb8\\xa3\\xe0\\xb9\\x80\\xe0\\xb8\\x9e\\xe0\\xb8\\xb4\\xe0\\xb9\\x88\\xe0\\xb8\\xa1\\xe0\\xb8\\x82\\xe0\\xb8\\xb6\\xe0\\xb9\\x89\\xe0\\xb8\\x99 24X \\xe0\\xb9\\x83\\xe0\\xb8\\x99\\xe0\\xb9\\x80\\xe0\\xb8\\xa7\\xe0\\xb8\\xa5\\xe0\\xb8\\xb2\\xe0\\xb8\\x99\\xe0\\xb9\\x89\\xe0\\xb8\\xad\\xe0\\xb8\\xa2\\xe0\\xb8\\x81\\xe0\\xb8\\xa7\\xe0\\xb9\\x88\\xe0\\xb8\\xb2 9 \\xe0\\xb8\\x9b\\xe0\\xb8\\xb5 \\xe0\\xb9\\x81\\xe0\\xb8\\xa5\\xe0\\xb8\\xb0\\xe0\\xb9\\x83\\xe0\\xb8\\x99\\xe0\\xb8\\x9b\\xe0\\xb8\\xb5 1980-1999\\xe2\\x80\\xa6 https://t.co/ufHIKCbInc\"},{\"created_at\":\"Mon Oct 07 19:28:36 +0000 2019\",\"text\":\"RT @ekonomikocu: XAUUSD G\\xc3\\xbcnl\\xc3\\xbck\\\\n\\\\nArkada\\xc5\\x9flar biraz yogun detaya giremiyorum.\\\\n\\\\nGrafik a\\xc5\\x9fa\\xc4\\x9f\\xc4\\xb1da ons alt\\xc4\\xb1nda, kanallar\\xc4\\xb1 bu hafta biraz geni\\xc5\\x9f alma\\xe2\\x80\\xa6\"},{\"created_at\":\"Mon Oct 07 19:28:33 +0000 2019\",\"text\":\"Finally\\\\n\\\\n#mudspike $xauusd $gold hidden size bid\"},{\"created_at\":\"Mon Oct 07 19:28:06 +0000 2019\",\"text\":\"RT @bilgeefe: #xauusd i\\xc5\\x9flem yapacaks\\xc4\\xb1n #usdjpy nin durumuna bakt\\xc4\\xb1n m\\xc4\\xb1?Ordan da bir \\xc5\\x9fey \\xc3\\xa7\\xc4\\xb1karamad\\xc4\\xb1n jpy etkileyebilir  #spx bakmaya ne dersi\\xe2\\x80\\xa6\"},{\"created_at\":\"Mon Oct 07 19:27:58 +0000 2019\",\"text\":\"RT @bilgeefe: #xauusd i\\xc5\\x9flem yapacaks\\xc4\\xb1n #usdjpy nin durumuna bakt\\xc4\\xb1n m\\xc4\\xb1?Ordan da bir \\xc5\\x9fey \\xc3\\xa7\\xc4\\xb1karamad\\xc4\\xb1n jpy etkileyebilir  #spx bakmaya ne dersi\\xe2\\x80\\xa6\"},{\"created_at\":\"Mon Oct 07 19:27:56 +0000 2019\",\"text\":\"RT @fatihonline_: #xauusd formasyonunu yap\\xc4\\xb1yor\\\\nk\\xc4\\xb1sada d\\xc3\\xbc\\xc5\\x9f\\xc3\\xbc\\xc5\\x9f var sanki ama \\\\nbu hacimle kolay kolay durmaz bence\\\\nbayraklarla ilerliyor \\\\ngecey\\xe2\\x80\\xa6\"},{\"created_at\":\"Mon Oct 07 19:27:51 +0000 2019\",\"text\":\"RT @fatihonline_: #xauusd g\\xc3\\xbcnl\\xc3\\xbck grafik #alt\\xc4\\xb1n #gold #ons\\\\n-ana diren\\xc3\\xa7 b\\xc3\\xb6lgesine bayrak formasyonu ile geldi formasyon devam ediyor\\\\n-abd tdi\\xe2\\x80\\xa6\"},{\"created_at\":\"Mon Oct 07 19:27:28 +0000 2019\",\"text\":\"RT @bilgeefe: #xauusd i\\xc5\\x9flem yapacaks\\xc4\\xb1n #usdjpy nin durumuna bakt\\xc4\\xb1n m\\xc4\\xb1?Ordan da bir \\xc5\\x9fey \\xc3\\xa7\\xc4\\xb1karamad\\xc4\\xb1n jpy etkileyebilir  #spx bakmaya ne dersi\\xe2\\x80\\xa6\"},{\"created_at\":\"Mon Oct 07 19:27:07 +0000 2019\",\"text\":\"RT @bilgeefe: #xauusd i\\xc5\\x9flem yapacaks\\xc4\\xb1n #usdjpy nin durumuna bakt\\xc4\\xb1n m\\xc4\\xb1?Ordan da bir \\xc5\\x9fey \\xc3\\xa7\\xc4\\xb1karamad\\xc4\\xb1n jpy etkileyebilir  #spx bakmaya ne dersi\\xe2\\x80\\xa6\"},{\"created_at\":\"Mon Oct 07 19:26:34 +0000 2019\",\"text\":\"#xauusd i\\xc5\\x9flem yapacaks\\xc4\\xb1n #usdjpy nin durumuna bakt\\xc4\\xb1n m\\xc4\\xb1?Ordan da bir \\xc5\\x9fey \\xc3\\xa7\\xc4\\xb1karamad\\xc4\\xb1n jpy etkileyebilir  #spx bakmay\\xe2\\x80\\xa6 https://t.co/b2Mnu9ObmU\"},{\"created_at\":\"Mon Oct 07 19:26:16 +0000 2019\",\"text\":\"Closed Buy Limit XAUUSD 1487.0 for 0.0 pips, total for today 0.0 pips\"},{\"created_at\":\"Mon Oct 07 19:25:14 +0000 2019\",\"text\":\"\\xe0\\xb8\\xa5\\xe0\\xb8\\xad\\xe0\\xb8\\x87\\xe0\\xb8\\xa7\\xe0\\xb8\\xb4\\xe0\\xb8\\x8a\\xe0\\xb8\\xb2\\xe0\\xb8\\x97\\xe0\\xb8\\xb5\\xe0\\xb9\\x88\\xe0\\xb9\\x84\\xe0\\xb8\\x9b\\xe0\\xb8\\x88\\xe0\\xb8\\xb3\\xe0\\xb9\\x80\\xe0\\xb8\\x82\\xe0\\xb8\\xb2\\xe0\\xb8\\xa1\\xe0\\xb8\\xb2\\xe0\\xb8\\xad\\xe0\\xb8\\xb5\\xe0\\xb8\\x81\\xe0\\xb8\\x97\\xe0\\xb8\\xb5\\\\n#GOLD #xauusd https://t.co/o2FWcwbpmu\"},{\"created_at\":\"Mon Oct 07 19:23:24 +0000 2019\",\"text\":\"#xauusd formasyonunu yap\\xc4\\xb1yor\\\\nk\\xc4\\xb1sada d\\xc3\\xbc\\xc5\\x9f\\xc3\\xbc\\xc5\\x9f var sanki ama \\\\nbu hacimle kolay kolay durmaz bence\\\\nbayraklarla ilerliyor\\xe2\\x80\\xa6 https://t.co/2Rj8qbEwaU\"},{\"created_at\":\"Mon Oct 07 19:21:59 +0000 2019\",\"text\":\"$XAUUSD DLY : m\\xc3\\xaame remarque que $EURUSD avec en plus une cassure baissi\\xc3\\xa8re de la tenkan . Next support @ 1478$ = Ki\\xe2\\x80\\xa6 https://t.co/qm7jHvU75b\"},{\"created_at\":\"Mon Oct 07 19:21:01 +0000 2019\",\"text\":\"Gold | $XAUUSD | $XAU $USD\\\\n\\\\nXAUUSD\\\\n\\\\nLong or short it on WCX: https://t.co/2kfJ8dG4jH https://t.co/IfyKF8sbyS\"},{\"created_at\":\"Mon Oct 07 19:18:52 +0000 2019\",\"text\":\"RT @CHMelih: #XAUUSD SL 1514.00 dan 1510.00 cekmistik. Simdi risksiz 1501.00 cektik. Haber akislarini takip edelim. Gerekirse 1/2 kar alali\\xe2\\x80\\xa6\"},{\"created_at\":\"Mon Oct 07 19:18:01 +0000 2019\",\"text\":\"Gold | $XAUUSD | $XAU $USD\\\\n\\\\nGOLD now it looks like consolidation before the next move do...\\\\n\\\\nLong or short it on WC\\xe2\\x80\\xa6 https://t.co/vAkl2D3ifE\"},{\"created_at\":\"Mon Oct 07 19:11:52 +0000 2019\",\"text\":\"#facts \\\\n\\\\n#distraction101 \\\\n\\\\n$SPX $IWM $QQQ $XAUUSD $DIA https://t.co/b3R0VpucZs\"},{\"created_at\":\"Mon Oct 07 19:10:31 +0000 2019\",\"text\":\"Trump\\'tan T\\xc3\\xbcrkiye\\'ye y\\xc3\\xb6nelik a\\xc3\\xa7\\xc4\\xb1klama https://t.co/P33N3NHzaB\\\\n\\\\n#dolar #DolarTL #usdtry #viop #forex #viopusd #forex\\xe2\\x80\\xa6 https://t.co/NT2bs1VRRg\"},{\"created_at\":\"Mon Oct 07 19:10:14 +0000 2019\",\"text\":\"RT @TakipcisiFinans: #usdtry S\\xc4\\xb1k\\xc4\\xb1\\xc5\\x9fma yukar\\xc4\\xb1 y\\xc3\\xb6nl\\xc3\\xbc \\xc3\\xa7\\xc3\\xb6z\\xc3\\xbclm\\xc3\\xbc\\xc5\\x9f gibi duruyor. Bug\\xc3\\xbcnk\\xc3\\xbc kapan\\xc4\\xb1\\xc5\\x9f \\xc3\\xb6nemli.\\\\n#forex #dolar #eurusd #BIST30 #bist100 #xa\\xe2\\x80\\xa6\"},{\"created_at\":\"Mon Oct 07 19:09:47 +0000 2019\",\"text\":\"RT @hiakkaya: Endeks  tek barda direk yapt\\xc4\\xb1 ilgin\\xc3\\xa7 ..\\\\n\\\\n2 li dip var, sert tepki vermeli.. \\\\n\\\\n#bist100 #viop #usdtry #xauusd #hiakkaya https:\\xe2\\x80\\xa6\"},{\"created_at\":\"Mon Oct 07 19:09:34 +0000 2019\",\"text\":\"Offer stands till friday market close \\\\n\\\\nGolden Circle ~ lifetime membership \\xe2\\x82\\xac59,- \\\\n\\\\nTelegram: @GoldpipzDM\\\\n\\\\n#xauusd\"},{\"created_at\":\"Mon Oct 07 19:09:16 +0000 2019\",\"text\":\"#halkb bu gecenin en \\xc3\\xa7ok sorulan hissesi galiba 6,03 onay b\\xc3\\xb6lgesidir 6,01 alt\\xc4\\xb1na d\\xc3\\xbc\\xc5\\x9fer ise d\\xc3\\xbc\\xc5\\x9f\\xc3\\xbc\\xc5\\x9f ba\\xc5\\x9flayabilir.\\xe2\\x80\\xa6 https://t.co/rj6MVlN8Yv\"},{\"created_at\":\"Mon Oct 07 19:05:41 +0000 2019\",\"text\":\"RT @_mynamefiddla: @Daddy_Drisco I know you seen my markup for XAUUSD and then the subsequent 100 pip drop\"},{\"created_at\":\"Mon Oct 07 19:04:44 +0000 2019\",\"text\":\"Sur l\\'or, en toute objectivit\\xc3\\xa9 je vois \\xc3\\xa7a... en fait, j\\'esp\\xc3\\xa8re que j\\'ai tort \\xf0\\x9f\\x98\\x85 $XAUUSD https://t.co/29gGMC17jo\"},{\"created_at\":\"Mon Oct 07 19:04:24 +0000 2019\",\"text\":\"@Daddy_Drisco I know you seen my markup for XAUUSD and then the subsequent 100 pip drop\"},{\"created_at\":\"Mon Oct 07 19:04:02 +0000 2019\",\"text\":\"Sold #XAUUSD 1491.32 For Free #signals #tips WhatsApp on +919216200292 #AutoTrading\"},{\"created_at\":\"Mon Oct 07 19:04:02 +0000 2019\",\"text\":\"Sold #XAUUSD 1491.09 For Free #signals #tips WhatsApp on +919216200292 #AutoTrading\"}]'"
            ]
          },
          "metadata": {
            "tags": []
          },
          "execution_count": 49
        }
      ]
    }
  ]
}